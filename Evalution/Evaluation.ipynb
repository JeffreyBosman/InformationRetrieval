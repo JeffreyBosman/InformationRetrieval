{
 "cells": [
  {
   "cell_type": "code",
   "execution_count": 46,
   "metadata": {},
   "outputs": [],
   "source": [
    "import pandas as pd\n",
    "import numpy as np\n",
    "from sklearn import metrics"
   ]
  },
  {
   "cell_type": "code",
   "execution_count": 39,
   "metadata": {},
   "outputs": [],
   "source": [
    "data = pd.read_csv(\"flaminGO evaluation form (Antwoorden) - Formulierreacties 1.csv\", sep =',')"
   ]
  },
  {
   "cell_type": "code",
   "execution_count": 41,
   "metadata": {},
   "outputs": [],
   "source": [
    "data = data.replace('Relevent',1)\n",
    "data = data.replace('Non-relevant',0)\n"
   ]
  },
  {
   "cell_type": "code",
   "execution_count": 42,
   "metadata": {},
   "outputs": [
    {
     "name": "stdout",
     "output_type": "stream",
     "text": [
      "122\n",
      "147\n",
      "130\n"
     ]
    }
   ],
   "source": [
    "print(data['iteration1'].sum(axis=0))\n",
    "print(data['iteration2'].sum(axis=0))\n",
    "print(data['iteration3'].sum(axis=0))"
   ]
  },
  {
   "cell_type": "markdown",
   "metadata": {},
   "source": [
    "##cohen_kappa_score"
   ]
  },
  {
   "cell_type": "code",
   "execution_count": 49,
   "metadata": {},
   "outputs": [
    {
     "name": "stdout",
     "output_type": "stream",
     "text": [
      "0.38657149230426047\n",
      "0.42956926658905703\n",
      "0.3147751605995718\n"
     ]
    }
   ],
   "source": [
    "print(sklearn.metrics.cohen_kappa_score(data['iteration1'],data['iteration2']))\n",
    "print(sklearn.metrics.cohen_kappa_score(data['iteration2'],data['iteration3']))\n",
    "print(sklearn.metrics.cohen_kappa_score(data['iteration1'],data['iteration3']))"
   ]
  },
  {
   "cell_type": "markdown",
   "metadata": {},
   "source": [
    "## Precision"
   ]
  },
  {
   "cell_type": "code",
   "execution_count": 52,
   "metadata": {},
   "outputs": [
    {
     "name": "stdout",
     "output_type": "stream",
     "text": [
      "Precision all documents group A\n",
      "61.0\n",
      "Precision all documents group B\n",
      "73.5\n",
      "Precision all documents group B\n",
      "65.0\n"
     ]
    }
   ],
   "source": [
    "## Precision \n",
    "print(\"Precision all documents group A\")\n",
    "print((data['iteration1'].sum(axis=0) / 200)*100)\n",
    "\n",
    "\n",
    "print(\"Precision all documents group B\")\n",
    "print((data['iteration2'].sum(axis=0) / 200)*100)\n",
    "\n",
    "print(\"Precision all documents group B\")\n",
    "print((data['iteration3'].sum(axis=0) / 200)*100)\n",
    "\n"
   ]
  },
  {
   "cell_type": "markdown",
   "metadata": {},
   "source": [
    "## Recipicol Rank"
   ]
  },
  {
   "cell_type": "code",
   "execution_count": 53,
   "metadata": {},
   "outputs": [
    {
     "name": "stdout",
     "output_type": "stream",
     "text": [
      "The mean of RR of group A\n",
      "0.8708333333333333\n",
      "The mean of RR of group B\n",
      "0.95\n",
      "The mean of RR of group C\n",
      "0.7833333333333333\n"
     ]
    }
   ],
   "source": [
    "def chunker(seq, size):\n",
    "    return (seq[pos:pos + size] for pos in range(0, len(seq), size))\n",
    "\n",
    "list1 = []\n",
    "list2 = []\n",
    "list3 = []\n",
    "\n",
    "\n",
    "for i in chunker(data,10):\n",
    "    RR = ((i.iteration1.values == 1).argmax() + 1)\n",
    "    uitkomst1 = 1/RR\n",
    "    list1.append(uitkomst1)\n",
    "    RR2 = ((i.iteration2.values == 1).argmax() + 1)\n",
    "    uitkomst2 = 1/RR2\n",
    "    list2.append(uitkomst2)\n",
    "    RR3 = ((i.iteration3.values == 1).argmax() + 1)\n",
    "    uitkomst3 = 1/RR3\n",
    "    list3.append(uitkomst3)\n",
    "                \n",
    "    \n",
    "print(\"The mean of RR of group A\")\n",
    "print(np.mean(list1))\n",
    "\n",
    "\n",
    "print(\"The mean of RR of group B\")\n",
    "print(np.mean(list2))\n",
    "\n",
    "print(\"The mean of RR of group C\")\n",
    "print(np.mean(list3))\n",
    "\n"
   ]
  },
  {
   "cell_type": "markdown",
   "metadata": {},
   "source": [
    "## Avarage precision"
   ]
  },
  {
   "cell_type": "code",
   "execution_count": 55,
   "metadata": {},
   "outputs": [],
   "source": [
    "list1=[]\n",
    "list2=[]\n",
    "list3=[]\n",
    "\n",
    "for i in chunker(data,10):\n",
    "    index = 0\n",
    "    number_of_relevants = 0\n",
    "    total = 0\n",
    "    for a in i.iteration1:\n",
    "        index = index + 1\n",
    "        if a == 1: \n",
    "            number_of_relevants = number_of_relevants + 1\n",
    "            som = number_of_relevants/index\n",
    "            total = total + som\n",
    "    list1.append(total/number_of_relevants)        \n",
    "        \n",
    "    \n",
    "for i in chunker(data,10):\n",
    "    index = 0\n",
    "    number_of_relevants = 0\n",
    "    total = 0\n",
    "    for a in i.iteration2:\n",
    "        index = index + 1\n",
    "        if a == 1: \n",
    "            number_of_relevants = number_of_relevants + 1\n",
    "            som = number_of_relevants/index\n",
    "            total = total + som\n",
    "    list2.append(total/number_of_relevants)        \n",
    "\n",
    "\n",
    "    \n",
    "    \n",
    "\n",
    "for i in chunker(data,10):\n",
    "    index = 0\n",
    "    number_of_relevants = 0\n",
    "    total = 0\n",
    "    for a in i.iteration3:\n",
    "        index = index + 1\n",
    "        if a == 1: \n",
    "            number_of_relevants = number_of_relevants + 1\n",
    "            som = number_of_relevants/index\n",
    "            total = total + som\n",
    "    list3.append(total/number_of_relevants)        \n",
    "\n",
    "    "
   ]
  },
  {
   "cell_type": "code",
   "execution_count": 56,
   "metadata": {},
   "outputs": [
    {
     "name": "stdout",
     "output_type": "stream",
     "text": [
      "0.7524517825648779\n",
      "0.8736520061728393\n",
      "0.762505180776014\n"
     ]
    }
   ],
   "source": [
    "print( np.mean(list1) )\n",
    "print( np.mean(list2) )\n",
    "print( np.mean(list3) )"
   ]
  },
  {
   "cell_type": "markdown",
   "metadata": {},
   "source": [
    "## Precision at rank K (5)"
   ]
  },
  {
   "cell_type": "code",
   "execution_count": 61,
   "metadata": {},
   "outputs": [],
   "source": [
    "list1=[]\n",
    "list2=[]\n",
    "list3=[]\n",
    "k =9\n",
    "\n",
    "for i in chunker(data,10):\n",
    "    index = 0\n",
    "    number_of_relevants = 0\n",
    "    total = 0\n",
    "    for a in i.iteration1:\n",
    "        index = index + 1\n",
    "        if a == 1 and index < (k+1): \n",
    "            number_of_relevants = number_of_relevants + 1\n",
    "            \n",
    "    list1.append(number_of_relevants/k)        \n",
    "for i in chunker(data,10):\n",
    "    index = 0\n",
    "    number_of_relevants = 0\n",
    "    total = 0\n",
    "    for a in i.iteration2:\n",
    "        index = index + 1\n",
    "        if a == 1 and index < (k+1): \n",
    "            number_of_relevants = number_of_relevants + 1\n",
    "            \n",
    "    list2.append(number_of_relevants/k)     \n",
    "\n",
    "for i in chunker(data,10):\n",
    "    index = 0\n",
    "    number_of_relevants = 0\n",
    "    total = 0\n",
    "    for a in i.iteration3:\n",
    "        index = index + 1\n",
    "        if a == 1 and index < (k+1): \n",
    "            number_of_relevants = number_of_relevants + 1\n",
    "            \n",
    "    list3.append(number_of_relevants/k)     \n",
    "            "
   ]
  },
  {
   "cell_type": "code",
   "execution_count": 62,
   "metadata": {},
   "outputs": [
    {
     "name": "stdout",
     "output_type": "stream",
     "text": [
      "0.5944444444444443\n",
      "0.7444444444444446\n",
      "0.6555555555555557\n"
     ]
    }
   ],
   "source": [
    "print( np.mean(list1) )\n",
    "print( np.mean(list2) )\n",
    "print( np.mean(list3) )"
   ]
  }
 ],
 "metadata": {
  "kernelspec": {
   "display_name": "Python 3",
   "language": "python",
   "name": "python3"
  },
  "language_info": {
   "codemirror_mode": {
    "name": "ipython",
    "version": 3
   },
   "file_extension": ".py",
   "mimetype": "text/x-python",
   "name": "python",
   "nbconvert_exporter": "python",
   "pygments_lexer": "ipython3",
   "version": "3.6.5"
  }
 },
 "nbformat": 4,
 "nbformat_minor": 2
}
