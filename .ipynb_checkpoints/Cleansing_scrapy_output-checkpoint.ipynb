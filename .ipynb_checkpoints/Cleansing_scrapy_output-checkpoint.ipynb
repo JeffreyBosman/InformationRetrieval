{
 "cells": [
  {
   "cell_type": "code",
   "execution_count": 206,
   "metadata": {},
   "outputs": [],
   "source": [
    "import json\n",
    "import re\n",
    "import pandas as pd\n",
    "from nltk import word_tokenize\n",
    "from nltk.corpus import stopwords\n",
    "import string\n",
    "\n",
    "input_file_indeed = '.\\\\indeed_listings_new.json'\n",
    "input_file_techno_jobs = '.\\\\technojobs 2361 listings.json'\n",
    "input_file_reed = '.\\\\Reed.co.uk _1358_listings.json'\n",
    "\n",
    "\n",
    "\n",
    "output_file = '.\\\\all_jobs.json'\n"
   ]
  },
  {
   "cell_type": "code",
   "execution_count": 207,
   "metadata": {},
   "outputs": [],
   "source": [
    "##LOADING AND CONCATING THE DATA\n",
    "with open(input_file_indeed) as f:\n",
    "    data_indeed = json.load(f)\n",
    "\n",
    "with open(input_file_techno_jobs) as f:\n",
    "    data_techno = json.load(f)\n",
    "    \n",
    "with open(input_file_reed) as f:\n",
    "    data_reed = json.load(f)"
   ]
  },
  {
   "cell_type": "code",
   "execution_count": 208,
   "metadata": {},
   "outputs": [],
   "source": [
    "def lowercase_strip_reed_techno(sentence):\n",
    "    '''\n",
    "    strip all the non-alphabetical characters\n",
    "    '''\n",
    "    if isinstance(sentence, (list,)):\n",
    "        sentence = ' '.join(sentence).replace('\\r', '').replace('\\n', '').replace(' ','').split(',')[-1]\n",
    "        return sentence\n",
    "    elif isinstance(sentence, (str,)):\n",
    "        clean_text = sentence.strip().lower()\n",
    "        result = re.sub(r\"[^a-zA-Z]+\", ' ', clean_text)\n",
    "        return result\n",
    "    else:\n",
    "        return ''\n",
    "    \n",
    "def lowercase_strip_indeed(sentence):\n",
    "    '''\n",
    "    strip all the non-alphabetical characters\n",
    "    '''\n",
    "    if isinstance(sentence, (list,)):\n",
    "        sentence = ' '.join(sentence).replace('\\r', '').replace('\\n', '').replace(' ','').split('-')[-1]\n",
    "        return sentence\n",
    "    elif isinstance(sentence, (str,)):\n",
    "        clean_text = sentence.strip().lower()\n",
    "        result = re.sub(r\"[^a-zA-Z]+\", ' ', clean_text)\n",
    "        return result\n",
    "    else:\n",
    "        return ''\n",
    "    "
   ]
  },
  {
   "cell_type": "code",
   "execution_count": 209,
   "metadata": {},
   "outputs": [],
   "source": [
    "STOPWORD = stopwords.words('english') + list(string.punctuation)\n"
   ]
  },
  {
   "cell_type": "code",
   "execution_count": 210,
   "metadata": {},
   "outputs": [],
   "source": [
    "def clean_discription(descrip_list):\n",
    "    if isinstance(descrip_list, (list,)):\n",
    "        descrip_list = ' '.join(descrip_list).replace('\\r', '').replace('\\n', '').strip()\n",
    "        clean_descrip =' '.join([i for i in word_tokenize(descrip_list.lower()) if i not in STOPWORD])\n",
    "    return clean_descrip\n"
   ]
  },
  {
   "cell_type": "code",
   "execution_count": 211,
   "metadata": {},
   "outputs": [],
   "source": [
    "for i in data_indeed:\n",
    "    location_clean = lowercase_strip_indeed(i['location'])\n",
    "    d1 = {'location': location_clean}\n",
    "    company_clean = lowercase_strip_indeed(i['company'])\n",
    "    d2 = {'company': company_clean}\n",
    "    title_clean = lowercase_strip_indeed(i['title'])\n",
    "    d3 = {'title': title_clean}\n",
    "    descrip_clean = clean_discription(i['description'])\n",
    "    d4 = {'description': descrip_clean}\n",
    "    i.update(d1)\n",
    "    i.update(d2)\n",
    "    i.update(d3)\n",
    "    i.update(d4)\n"
   ]
  },
  {
   "cell_type": "code",
   "execution_count": 212,
   "metadata": {},
   "outputs": [],
   "source": [
    "\n",
    "for i in data_techno:\n",
    "    location_clean = lowercase_strip_reed_techno(i['location'])\n",
    "    d1 = {'location': location_clean}\n",
    "    company_clean = lowercase_strip_reed_techno(i['company'])\n",
    "    d2 = {'company': company_clean}\n",
    "    title_clean = lowercase_strip_reed_techno(i['title'])\n",
    "    d3 = {'title': title_clean}\n",
    "    descrip_clean = clean_discription(i['description'])\n",
    "    d4 = {'description': descrip_clean}\n",
    "    i.update(d1)\n",
    "    i.update(d2)\n",
    "    i.update(d3)\n",
    "    i.update(d4)\n"
   ]
  },
  {
   "cell_type": "code",
   "execution_count": 213,
   "metadata": {},
   "outputs": [],
   "source": [
    "for i in data_reed:\n",
    "    location_clean = lowercase_strip_reed_techno(i['location'])\n",
    "    d1 = {'location': location_clean}\n",
    "    company_clean = lowercase_strip_reed_techno(i['company'])\n",
    "    d2 = {'company': company_clean}\n",
    "    title_clean = lowercase_strip_reed_techno(i['title'])\n",
    "    d3 = {'title': title_clean}\n",
    "    descrip_clean = clean_discription(i['description'])\n",
    "    d4 = {'description': descrip_clean}\n",
    "    i.update(d1)\n",
    "    i.update(d2)\n",
    "    i.update(d3)\n",
    "    i.update(d4)\n"
   ]
  },
  {
   "cell_type": "code",
   "execution_count": 214,
   "metadata": {},
   "outputs": [],
   "source": [
    "data_reed.extend(data_techno)\n",
    "data_reed.extend(data_indeed)"
   ]
  },
  {
   "cell_type": "code",
   "execution_count": 215,
   "metadata": {},
   "outputs": [],
   "source": [
    "with open(output_file, 'w') as f:\n",
    "    json.dump(data_reed, f)"
   ]
  }
 ],
 "metadata": {
  "kernelspec": {
   "display_name": "Python 3",
   "language": "python",
   "name": "python3"
  },
  "language_info": {
   "codemirror_mode": {
    "name": "ipython",
    "version": 3
   },
   "file_extension": ".py",
   "mimetype": "text/x-python",
   "name": "python",
   "nbconvert_exporter": "python",
   "pygments_lexer": "ipython3",
   "version": "3.6.5"
  }
 },
 "nbformat": 4,
 "nbformat_minor": 2
}
