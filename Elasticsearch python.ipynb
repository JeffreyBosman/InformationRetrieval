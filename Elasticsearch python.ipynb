{
 "cells": [
  {
   "cell_type": "code",
   "execution_count": 1,
   "metadata": {},
   "outputs": [
    {
     "data": {
      "text/plain": [
       "<Elasticsearch([{'host': 'localhost', 'port': 9200}])>"
      ]
     },
     "execution_count": 1,
     "metadata": {},
     "output_type": "execute_result"
    }
   ],
   "source": [
    "# good tutorial for elasticsearch python http://nitin-panwar.github.io/Elasticsearch-tutorial-for-beginners-using-Python/\n",
    "#https://elasticsearch-py.readthedocs.io/en/master/\n",
    "#http://snowsyn.net/2016/10/25/having-fun-with-elasticsearch-and-python/\n",
    "#https://marcobonzanini.com/2015/02/02/how-to-query-elasticsearch-with-python/\n",
    "\n",
    "from elasticsearch import Elasticsearch \n",
    "# Connect to the elastic cluster\n",
    "es=Elasticsearch([{'host':'localhost','port':9200}])\n",
    "es"
   ]
  },
  {
   "cell_type": "code",
   "execution_count": 6,
   "metadata": {},
   "outputs": [
    {
     "name": "stdout",
     "output_type": "stream",
     "text": [
      "{'first_name': 'nitin', 'last_name': 'panwar', 'age': 27, 'about': 'Love to play cricket', 'interests': ['sports', 'music']}\n"
     ]
    }
   ],
   "source": [
    "e1={\n",
    "    \"first_name\":\"nitin\",\n",
    "    \"last_name\":\"panwar\",\n",
    "    \"age\": 27,\n",
    "    \"about\": \"Love to play cricket\",\n",
    "    \"interests\": ['sports','music'],\n",
    "}\n",
    "print(e1)"
   ]
  },
  {
   "cell_type": "code",
   "execution_count": 15,
   "metadata": {},
   "outputs": [],
   "source": [
    "res = es.index(index='megacorp',doc_type='employee',id=1,body=e1)"
   ]
  },
  {
   "cell_type": "code",
   "execution_count": 8,
   "metadata": {},
   "outputs": [],
   "source": [
    "# Let's insert some more documents\n",
    "e2={\n",
    "    \"first_name\" :  \"Jane\",\n",
    "    \"last_name\" :   \"Smith\",\n",
    "    \"age\" :         32,\n",
    "    \"about\" :       \"I like to collect rock albums\",\n",
    "    \"interests\":  [ \"music\" ]\n",
    "}\n",
    "e3={\n",
    "    \"first_name\" :  \"Douglas\",\n",
    "    \"last_name\" :   \"Fir\",\n",
    "    \"age\" :         35,\n",
    "    \"about\":        \"I like to build cabinets\",\n",
    "    \"interests\":  [ \"forestry\" ]\n",
    "}"
   ]
  },
  {
   "cell_type": "code",
   "execution_count": 19,
   "metadata": {},
   "outputs": [],
   "source": [
    "res=es.index(index='megacorp',doc_type='employee',id=2,body=e2)\n",
    "res=es.index(index='megacorp',doc_type='employee',id=3,body=e3)"
   ]
  },
  {
   "cell_type": "code",
   "execution_count": 21,
   "metadata": {},
   "outputs": [
    {
     "name": "stdout",
     "output_type": "stream",
     "text": [
      "{'_index': 'megacorp', '_type': 'employee', '_id': '3', '_version': 1, '_seq_no': 0, '_primary_term': 1, 'found': True, '_source': {'first_name': 'Douglas', 'last_name': 'Fir', 'age': 35, 'about': 'I like to build cabinets', 'interests': ['forestry']}}\n"
     ]
    }
   ],
   "source": [
    "res=es.get(index='megacorp',doc_type='employee',id=3)\n",
    "print(res)"
   ]
  },
  {
   "cell_type": "code",
   "execution_count": 23,
   "metadata": {},
   "outputs": [
    {
     "name": "stdout",
     "output_type": "stream",
     "text": [
      "{'first_name': 'Douglas', 'last_name': 'Fir', 'age': 35, 'about': 'I like to build cabinets', 'interests': ['forestry']}\n"
     ]
    }
   ],
   "source": [
    "print(res['_source'])"
   ]
  },
  {
   "cell_type": "code",
   "execution_count": 64,
   "metadata": {},
   "outputs": [],
   "source": [
    "#res=es.delete(index='megacorp',doc_type='employee',id=1)\n",
    "#res=es.delete(index='megacorp',doc_type='employee',id=2)\n",
    "#res=es.delete(index='megacorp',doc_type='employee',id=3)\n",
    "\n",
    "#job = {\n",
    "#    \"title\": \"technology returner programme\", \"company\": \"nomura\", \"description\": \"nomura diversity critical success harness value perspectives employees different work family experience backgrounds bring firm past experience invaluable us nomura technology division pleased launching first returner programme looking individuals taken career break 18months much longer looking return workplace successful candidates receive significant training support help transition new role world technology fast moving excellent opportunities find fulfilling role also provides flexibility need roles available 4 5 day week basis nomura financial services group integrated global network spanning 30 countries head offices asia connecting markets east west service needs individuals institutions corporates governments four business divisions retail asset management wholesale global markets investment banking merchant banking offer technology returner programme based london office designed experienced professionals ready build previous skills experience want embrace new opportunities ahead paid programme commences april 29th finishes 19th july 2019. end 3-month programme participants invited apply number open roles offer number type roles available outlined programme \\u2019 guarantee permanent role ensure developed valuable skills exposure wide-reaching influential network involvement high impact projects global financial services company looking returners join us previous experience business analysts project managers developers specific opportunities offer include strategic projects manager cto office software engineer business analyst team leader security consultant project manager hybrid project manager/it business analyst programme open women men career break least 18 months minimum number 5 years professional experience need able work city based london office duration programme eligible work uk april 2019 july 2019. opportunities available 4 5 days week basis pending preference supported goal support back workplace get taste career global investment bank support line manager coach buddy also employee networks join build network across firm prior 12 weeks provided pre-commencement coaching training day inclusivity one day induction organisation three personal coaching sessions delivered inclusivity \\u2019 specialist coach relevant technical training role remuneration benefits opportunity salary aligned market rates also access programme nomura services emergency childcare adult dependent care fitness centre onsite restaurant onsite gp nurse dental practice apply help application process questions hesitate contact us submit c.v. cover letter online tuesday 5th march latest please ensure c.v. shows career break least 18 months immediately preceding date application programme help us get know better include cover letter 've taken break work include motivates want return please place cover letter document cv shortlisted inclusivity touch organise first interview please click 'apply button redirected website\", \"location\": \"london\", \"URL\": \"https://www.technojobs.co.uk/job/2620662/technology-returner-programme/\"}, {\"title\": \"mobile developer in test javascript appium mocha chai\", \"company\": \"client server\", \"description\": \"mobile developer test javascript appium mocha chai city based financial software house provide range web based trading single-dealer platforms seeking mobile developer test experience testing mobile front end applications six month contract city office mobile developer test responsible developing automated test cases test frameworks new functionality within jenkins environment include functional non-functional testing using variety open source tools libraries 'll collaborate ux designers product owners define implement unit acceptance integration performance tests relaxed city based offices table tennis football casual dress code flexible working requirements *experience testing mobile applications appium *experience javascript testing frameworks including mocha chai *experience working jenkins *experience software tester developer test good appreciation test automation *passionate code quality advocate clean code principles *excellent analysis problem solving skills meticulous attention detail *nice mobile testing experience react react native apply call confidential discussion developer test contract opportunity mobile developer test javascript appium mocha chai rate \\u00a3400 \\u00a3450 p/day location london city term 6 months start immediate asap\", \"location\": \"london\", \"URL\": \"https://www.technojobs.co.uk/job/2624214/mobile-developer-in-test-javascript-appium-mocha-chai/\"\n",
    "#    }\n",
    "\n",
    "#res=es.index(index='technojobs',doc_type='jobs',id=1,body=job)\n",
    "#print(res)"
   ]
  },
  {
   "cell_type": "code",
   "execution_count": 38,
   "metadata": {},
   "outputs": [],
   "source": [
    "import json\n",
    "    \n",
    "with open('technojobs_2361_listings_clean.json', 'r') as f:\n",
    "    technojobs_dict = json.load(f)\n",
    "    #count = 0\n",
    "    for technojob in technojobs_dict:\n",
    "        #count+=1\n",
    "        my_id = technojob.pop('URL', None)\n",
    "        es.index(index='technojobs', doc_type='jobs', id=my_id, body=json.dumps(technojob))\n",
    "        #if count >= 10:\n",
    "        #    break\n",
    "    \n",
    "#for technojob in technojobs_dict:\n",
    "#    print(technojob['title'])\n",
    "    \n",
    "\n"
   ]
  },
  {
   "cell_type": "code",
   "execution_count": 63,
   "metadata": {},
   "outputs": [
    {
     "name": "stdout",
     "output_type": "stream",
     "text": [
      "655 documents found\n",
      "https://www.technojobs.co.uk/job/2627153/data-product-owner-amp-support/) data product owner support london 3 6 month contract contract perm perm c. £500 per day great opportunity experienced data owner work newly transitioned business establish brand new platform growth role data owner drive significant rapid change business specifically master data management governance data security gdpr iso27001 responsible delivering major programme change provide necessary data driven analytics business participate projects initiatives across multiple functional areas responsibilities include coordinating data cleansing activities identified data migration workshops identifying managing opportunities data cleansing pre post erp implementation defining data migration plan line netsuite recommended strategy ensuring data migration templates populated complete correct consistent data coordinating upload data netsuite via data migration templates developing data validation processes data migration test production environments coordinating issue resolutions netsuite data third party vendor parent company mapping files identified data migration workshops master data management decision making throughout project company client market leading provider hr business solutions consultancy payroll services using hr technology outsourcing best practice support clients person data owner successful track record data control management transition storage blend operational commercial skills rigorous approach coordinating delivering data transformation experience managing data within netsuite microsoft azure data lake knowledge data management within servicenow project management skills deliver projects erp data analytics wish considered role data owner please forward cv quoting reference 293172. regret accept applications persons authorised work within uk applications invited experience data owner data security netsuite data migration erp consultant manager project management jobs data servicenow jobs azure data lake netsuite jobs london threepeople advertises vacancies behalf clients cv matches clients requirements forward details confirm suitability applying role consent submission details purpose data processed used recruitment purposes retained threepeople period longer 6 months\n",
      "https://www.technojobs.co.uk/job/2625153/lead-data-engineer-python-r-etl/) lead data engineer python r etl salary £65k equity benefits lead data engineer searching talented product-focussed lead data engineer join heavily backed tech start-up lead data engineer complete ownership work building greenfield project optimise data infrastructure lead data engineer get additional experience different areas business powering data analysis drive development new features identifying growth opportunities company lead data engineer opportunity sole lead data engineer managing data functionalities processes work alongside data scientist wider product team develop data warehouse scale data pipeline involved feature entirety including tech design implementation release seeking lead data engineer happy working autonomously ability produce clean production ready code language preference fantastic opportunity passionate driven lead data engineer join successful growing company 'll able grow company direction choice whether within engineering devops data science apply immediate consideration excellent lead data engineer opportunity understanding recruitment acting employment agency lead data engineer vacancy\n",
      "https://www.technojobs.co.uk/job/2633535/data-engineer-data-scientist/) data engineer data architect data analyst data scientist sql big data cloud aws azure java python client seeking data engineer/ scientist fantastic opportunity work global company huge amount high quality data using cutting edge technology member diverse london team data research scientists engineers ux/ui designers part global network like-minded colleagues core responsibilities collaborate data science engineering teams share best practice provide expertise development data models data wranglers create maintain optimal data pipeline architecture manage internal stakeholders obtain access meet requirements data security build infrastructure required optimal extraction transformation loading data wide variety data sources using aws gcp azure open source technologies build analytics tools monitor data pipelines ensure resiliency cost efficiency create data tools analytics data scientist team members easily access experiment productionise innovation research projects qualifications experience required bachelor degree required computer science technology similar field 3 5 years work experience includes working nosql systems experience supporting working cross-functional teams dynamic environment experience building optimizing data pipelines architectures data sets experience creating data profiling cleansing data management services build processes supporting data transformation data structures metadata dependency workload management working knowledge message queuing stream processing highly scalable big data stores strong project management organizational skills interest machine learning analytics operations desirable technical requirements experience relational sql nosql databases including dynamodb redis postgres neo4j cassandra experience aws cloud services s3 ec2 emr rds redshift athena experience object-oriented/object function scripting languages python java go c++ scala gremlin etc experience big data tools spark kafka hadoop experience/working etl patterns tools organisation equal opportunity employer value diversity company client discriminate basis race religion colour national origin gender sexual orientation age marital status veteran status disability status apply online information please contact luke passmore telephone number removed\n",
      "https://www.technojobs.co.uk/job/2621913/data-analyst-crm-sql/) data analyst crm sql brand new role arisen work house hold name charity data analyst focus things data quality integrity based kings cross central london 1 2 days working home working data analyst running project analyse improve data imported ensure data great quality data integrity standards improved working largest customer data sets market using various tools like sql talend access crm full training provided brilliant opportunity someone looking learn new skills full training provided sql talend crm 's data analyst need crm database systems experience good knowledge around data works within organization drive learn working growing department quickly move line management crm project management data modelling data insights skills required data analyst crm sql experience working data systems crm customer data great knowledge data works within organization flows structure ability pick new skills want learn sql excellent communication skills ability work senior stakeholders crm data analyst data importing data quality database executive crm salary £30,000 £36,000 depending experience excellent benefits location kings cross central london 1 2 days working home apply details immediate consideration understanding recruitment acting employment agency vacancy\n",
      "https://www.technojobs.co.uk/job/2624581/senior-data-engineer-python-scala-etl/) senior data engineer python scala etl luigi airflow oozie spark would like work complex big data technologies within supportive agile team environment flexible working opportunities casual dress code free breakfast friday global software house produce high-performance data-intensive backend software allows advertising sector intelligently target ads seeking senior data engineer senior data engineer responsible evolution data platform developing architecture maintaining data platform backlog systems generate vast amounts data approximately 350gb per hour distributed many servers 'll solving complex technical challenges finding new ways use data improve product deliver value typical day could involve coding python scala 'll design build manage large batch streaming data processing products e.g spark storm design build maintain etl pipelines partnering data scientists engineers implement optimise complex machine learning algorithms help support mentor junior data engineers collaborative environment requirements *strong experience solving complex large scale data challenges *strong python scala coding skills data intensive systems *hands-on implementation architectural familiarity streaming data relational non-relational databases orchestration frameworks e.g luigi airflow oozie distributed processing technologies e.g spark *familiar cloud based services aws gcp *good working knowledge linux *collaborative team member keen learn share knowledge others senior data engineer earn competitive salary £90k plus bonus benefits apply call confidential discussion senior data engineer opportunity\n",
      "https://www.technojobs.co.uk/job/2626608/marketing-data-analyst/) marketing data analyst exciting opportunity arisen marketing data analyst join exciting charity based near marylebone central london leading charity currently going sustained period growth currently heavily investing fundraising department marketing data analyst play key role building segmentations bulk imports help generate fundraising marketing campaigns great opportunity marketing data analyst previous data selections experience join leading charity work closely senior marketing analyst large scale fundraising campaigns providing data manipulation produce effective accurate selection segmentation supporter data fundraising appeals marketing data analyst trained newest data techniques including sql faststats great opportunity marketing selections executive officer looking take next step career skills required marketing data analyst are- experience building data selections market segmentations exposure marketing campaigns strong skills working within crm excel ability pick new skills quickly desire work fun exciting work environment marketing data analyst great opportunity marketing data analyst looking progress career within well-established charity location marylebone central london salary £25,000 £29,000 excellent benefits apply immediate consideration regarding excellent opportunity understanding recruitment acting employment agency vacancy\n",
      "https://www.technojobs.co.uk/job/2634553/senior-big-data-engineer-fintech/) senior big data engineer data scientist spark hadoop r sas sql scala python fintech start-up works high profile financial services government organisations provide data science services complex software solutions combat financial fraud seeking senior data engineer lead small growing team senior big data engineer work clients solve business problems area fraud compliance financial crime responsibilities include eliciting documenting solutions requirements understanding patterns criminal behaviour designing systems detect investigate 'll manage transform cleanse high volume data performing advanced analytics identify trends automate analysis proactively alert high risk activity ongoing basis working closely development team using leading open source data science tools spark hadoop lucence also gain exposure python scala collaborate scalability issues involving massive amounts data produce components advanced analytics matching search visualisation big data 'll based london close mainline station near city 'll working small motivated collaborative team software data finance experts requirements *excellent technical skills including expert knowledge least one analytical big data package spark hadoop r sas sql *good coding skills scala java python *some team leadership experience *excellent communication skills client facing presentation skills *passion enthusiasm learning new technologies techniques *degree educated 2.1 *ideally background aml kyc screening regulatory compliance fraud senior big data engineer data scientist earn competitive salary £100k plus benefits apply call confidential discussion senior big data engineer data scientist opportunity\n",
      "https://www.technojobs.co.uk/job/2631410/data-engineer-consultancy-london-4565kcross-trainingaws/) data engineer consultancy london £45-65k/bonus aws/big data cross training ***looking speak talented data engineers passion python showcasing data management *** london based consultancy looking hire mid-level data engineers ambitious creative motivated able develop big data aws skills working variety sites love ... driving customer data quality managing data sets implementing solutions visiting variety clients around london offering advice services weekly training session home site need ... understanding data manipulation python spark sql knowledge aws good customer facing skills hard work put definitely rewarded client benefits incentives include competitive salary benchmarked competitors private medical care great pension scheme enticing holiday entitlement looking hire asap find exciting opportunity hesitate contact click contact recruiter click contact recruiter telephone number removed 88 aws python java ec2 s3 big data hadoop redshift sql python programming python scripting london\n",
      "https://www.technojobs.co.uk/job/2626791/data-engineer-tech-startup-central-london90kbig-dataaws/) data engineer tech start-up central london £90k+big data/aws client looking ambitious data engineer help solve big data problems fast growing tech start-up great change career data engineer data engineer able use expertise python distributed data processing solutions spark celery airflow luigi take ownership data engineering efforts within team experience engineering scaleable data pipelines cloud including unit stress testing logging coding monitoring experience designing implementing database pipelines experience logging monitoring database pipelines experience scaling data pipelines large datasets python skills including numpy pytables pandas sqlalchemy data engineering skills sql airflow luigi celery cloud computing skills aws client offer great incentive including flexible working home remote working policy 'll opportunity travel global offices enjoy company trips looking hire asap\n",
      "https://www.technojobs.co.uk/job/2625527/data-engineersw/) data engineer vacancy based london client big portfolio batteries within energy sector support infrastructure create long term viable solution problem software integral part business vacancy data engineer give opportunity grow vastly within fun vibrant team data engineer vacancy suit candidate team player company thrive team tackling problems together also someone looking position allow huge learning curve growth potential expect primary responsibilities building designing data pipelines date generated energy sector create data platform allow data-driven decision made within company eligible data engineers relevant degree around 3+ years experience sofware engineering data engineer position experience following 1. programming knowledge c++ java 2. knowledge elt techniques frameworks 3. knowledge data warehousing cloud-based solutions 4. understanding data architectures analytic ability sounds like 're keen find please apply contact diogo pereira specialist consultant ic resources even unsure fulfil criteria please still apply may similar roles recommend\n"
     ]
    }
   ],
   "source": [
    "res = es.search(index=\"technojobs\", doc_type=\"jobs\", body={\"query\": {\"match\": {\"description\": \"data\"}}})\n",
    "print(\"%d documents found\" % res['hits']['total'])\n",
    "for doc in res['hits']['hits']:\n",
    "    print(\"%s) %s\" % (doc['_id'], doc['_source']['description']))"
   ]
  },
  {
   "cell_type": "code",
   "execution_count": null,
   "metadata": {},
   "outputs": [],
   "source": []
  },
  {
   "cell_type": "code",
   "execution_count": null,
   "metadata": {},
   "outputs": [],
   "source": []
  }
 ],
 "metadata": {
  "kernelspec": {
   "display_name": "Python 3",
   "language": "python",
   "name": "python3"
  },
  "language_info": {
   "codemirror_mode": {
    "name": "ipython",
    "version": 3
   },
   "file_extension": ".py",
   "mimetype": "text/x-python",
   "name": "python",
   "nbconvert_exporter": "python",
   "pygments_lexer": "ipython3",
   "version": "3.6.5"
  }
 },
 "nbformat": 4,
 "nbformat_minor": 2
}
