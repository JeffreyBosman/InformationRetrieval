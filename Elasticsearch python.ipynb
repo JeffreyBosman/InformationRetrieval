{
 "cells": [
  {
   "cell_type": "code",
   "execution_count": 2,
   "metadata": {},
   "outputs": [
    {
     "data": {
      "text/plain": [
       "<Elasticsearch([{'host': 'localhost', 'port': 9200}])>"
      ]
     },
     "execution_count": 2,
     "metadata": {},
     "output_type": "execute_result"
    }
   ],
   "source": [
    "# good tutorial for elasticsearch python http://nitin-panwar.github.io/Elasticsearch-tutorial-for-beginners-using-Python/\n",
    "#https://elasticsearch-py.readthedocs.io/en/master/\n",
    "#http://snowsyn.net/2016/10/25/having-fun-with-elasticsearch-and-python/\n",
    "#https://marcobonzanini.com/2015/02/02/how-to-query-elasticsearch-with-python/\n",
    "#https://www.elastic.co/guide/en/elasticsearch/guide/current/routing-value.html for the report how distributed indexing works\n",
    "#http://xpo6.com/using-elasticsearch-analyzer-remove-stop-words-from-text/\n",
    "#https://www.elastic.co/guide/en/elasticsearch/guide/current/data-in-data-out.html  every field has a dedicated inverted index for fast retrieval.\n",
    "#https://dzone.com/articles/23-useful-elasticsearch-example-queries\n",
    "\n",
    "from elasticsearch import Elasticsearch \n",
    "# Connect to the elastic cluster\n",
    "es=Elasticsearch([{'host':'localhost','port':9200}])\n",
    "es"
   ]
  },
  {
   "cell_type": "code",
   "execution_count": 3,
   "metadata": {},
   "outputs": [
    {
     "name": "stdout",
     "output_type": "stream",
     "text": [
      "{'first_name': 'nitin', 'last_name': 'panwar', 'age': 27, 'about': 'Love to play cricket', 'interests': ['sports', 'music']}\n"
     ]
    }
   ],
   "source": [
    "e1={\n",
    "    \"first_name\":\"nitin\",\n",
    "    \"last_name\":\"panwar\",\n",
    "    \"age\": 27,\n",
    "    \"about\": \"Love to play cricket\",\n",
    "    \"interests\": ['sports','music'],\n",
    "}\n",
    "print(e1)"
   ]
  },
  {
   "cell_type": "code",
   "execution_count": 15,
   "metadata": {},
   "outputs": [],
   "source": [
    "res = es.index(index='megacorp',doc_type='employee',id=1,body=e1)"
   ]
  },
  {
   "cell_type": "code",
   "execution_count": 8,
   "metadata": {},
   "outputs": [],
   "source": [
    "# Let's insert some more documents\n",
    "e2={\n",
    "    \"first_name\" :  \"Jane\",\n",
    "    \"last_name\" :   \"Smith\",\n",
    "    \"age\" :         32,\n",
    "    \"about\" :       \"I like to collect rock albums\",\n",
    "    \"interests\":  [ \"music\" ]\n",
    "}\n",
    "e3={\n",
    "    \"first_name\" :  \"Douglas\",\n",
    "    \"last_name\" :   \"Fir\",\n",
    "    \"age\" :         35,\n",
    "    \"about\":        \"I like to build cabinets\",\n",
    "    \"interests\":  [ \"forestry\" ]\n",
    "}"
   ]
  },
  {
   "cell_type": "code",
   "execution_count": 19,
   "metadata": {},
   "outputs": [],
   "source": [
    "res=es.index(index='megacorp',doc_type='employee',id=2,body=e2)\n",
    "res=es.index(index='megacorp',doc_type='employee',id=3,body=e3)"
   ]
  },
  {
   "cell_type": "code",
   "execution_count": 21,
   "metadata": {},
   "outputs": [
    {
     "name": "stdout",
     "output_type": "stream",
     "text": [
      "{'_index': 'megacorp', '_type': 'employee', '_id': '3', '_version': 1, '_seq_no': 0, '_primary_term': 1, 'found': True, '_source': {'first_name': 'Douglas', 'last_name': 'Fir', 'age': 35, 'about': 'I like to build cabinets', 'interests': ['forestry']}}\n"
     ]
    }
   ],
   "source": [
    "res=es.get(index='megacorp',doc_type='employee',id=3)\n",
    "print(res)"
   ]
  },
  {
   "cell_type": "code",
   "execution_count": 23,
   "metadata": {},
   "outputs": [
    {
     "name": "stdout",
     "output_type": "stream",
     "text": [
      "{'first_name': 'Douglas', 'last_name': 'Fir', 'age': 35, 'about': 'I like to build cabinets', 'interests': ['forestry']}\n"
     ]
    }
   ],
   "source": [
    "print(res['_source'])"
   ]
  },
  {
   "cell_type": "code",
   "execution_count": 84,
   "metadata": {},
   "outputs": [
    {
     "data": {
      "text/plain": [
       "{'acknowledged': True}"
      ]
     },
     "execution_count": 84,
     "metadata": {},
     "output_type": "execute_result"
    }
   ],
   "source": [
    "#res=es.delete(index='megacorp',doc_type='employee',id=1)\n",
    "#res=es.delete(index='megacorp',doc_type='employee',id=2)\n",
    "#res=es.delete(index='megacorp',doc_type='employee',id=3)\n",
    "\n",
    "#job = {\n",
    "#    \"title\": \"technology returner programme\", \"company\": \"nomura\", \"description\": \"nomura diversity critical success harness value perspectives employees different work family experience backgrounds bring firm past experience invaluable us nomura technology division pleased launching first returner programme looking individuals taken career break 18months much longer looking return workplace successful candidates receive significant training support help transition new role world technology fast moving excellent opportunities find fulfilling role also provides flexibility need roles available 4 5 day week basis nomura financial services group integrated global network spanning 30 countries head offices asia connecting markets east west service needs individuals institutions corporates governments four business divisions retail asset management wholesale global markets investment banking merchant banking offer technology returner programme based london office designed experienced professionals ready build previous skills experience want embrace new opportunities ahead paid programme commences april 29th finishes 19th july 2019. end 3-month programme participants invited apply number open roles offer number type roles available outlined programme \\u2019 guarantee permanent role ensure developed valuable skills exposure wide-reaching influential network involvement high impact projects global financial services company looking returners join us previous experience business analysts project managers developers specific opportunities offer include strategic projects manager cto office software engineer business analyst team leader security consultant project manager hybrid project manager/it business analyst programme open women men career break least 18 months minimum number 5 years professional experience need able work city based london office duration programme eligible work uk april 2019 july 2019. opportunities available 4 5 days week basis pending preference supported goal support back workplace get taste career global investment bank support line manager coach buddy also employee networks join build network across firm prior 12 weeks provided pre-commencement coaching training day inclusivity one day induction organisation three personal coaching sessions delivered inclusivity \\u2019 specialist coach relevant technical training role remuneration benefits opportunity salary aligned market rates also access programme nomura services emergency childcare adult dependent care fitness centre onsite restaurant onsite gp nurse dental practice apply help application process questions hesitate contact us submit c.v. cover letter online tuesday 5th march latest please ensure c.v. shows career break least 18 months immediately preceding date application programme help us get know better include cover letter 've taken break work include motivates want return please place cover letter document cv shortlisted inclusivity touch organise first interview please click 'apply button redirected website\", \"location\": \"london\", \"URL\": \"https://www.technojobs.co.uk/job/2620662/technology-returner-programme/\"}, {\"title\": \"mobile developer in test javascript appium mocha chai\", \"company\": \"client server\", \"description\": \"mobile developer test javascript appium mocha chai city based financial software house provide range web based trading single-dealer platforms seeking mobile developer test experience testing mobile front end applications six month contract city office mobile developer test responsible developing automated test cases test frameworks new functionality within jenkins environment include functional non-functional testing using variety open source tools libraries 'll collaborate ux designers product owners define implement unit acceptance integration performance tests relaxed city based offices table tennis football casual dress code flexible working requirements *experience testing mobile applications appium *experience javascript testing frameworks including mocha chai *experience working jenkins *experience software tester developer test good appreciation test automation *passionate code quality advocate clean code principles *excellent analysis problem solving skills meticulous attention detail *nice mobile testing experience react react native apply call confidential discussion developer test contract opportunity mobile developer test javascript appium mocha chai rate \\u00a3400 \\u00a3450 p/day location london city term 6 months start immediate asap\", \"location\": \"london\", \"URL\": \"https://www.technojobs.co.uk/job/2624214/mobile-developer-in-test-javascript-appium-mocha-chai/\"\n",
    "#    }\n",
    "\n",
    "#res=es.index(index='technojobs',doc_type='jobs',id=1,body=job)\n",
    "#print(res)\n",
    "#es.indices.delete(index='job', ignore=[400, 404])"
   ]
  },
  {
   "cell_type": "code",
   "execution_count": 85,
   "metadata": {},
   "outputs": [
    {
     "data": {
      "text/plain": [
       "{'acknowledged': True, 'shards_acknowledged': True, 'index': 'job'}"
      ]
     },
     "execution_count": 85,
     "metadata": {},
     "output_type": "execute_result"
    }
   ],
   "source": [
    "es.indices.create(index='job', body={\n",
    "   'settings' : {\n",
    "         'index' : {\n",
    "              'number_of_shards':5\n",
    "         },\n",
    "    \"analysis\": {\n",
    "      \"filter\": {\n",
    "        \"filter_stemmer\": {\n",
    "          \"type\": \"stemmer\",\n",
    "          \"language\": \"english\"\n",
    "        },\n",
    "            \"stopwordEn\": {\n",
    "            \"type\":       \"stop\",\n",
    "            \"stopwords\":  \"_english_\"\n",
    "        }\n",
    "      },\n",
    "      \"analyzer\": {\n",
    "        \"tags_analyzer\": {\n",
    "          \"type\": \"custom\",\n",
    "          \"filter\": [\n",
    "            \"standard\",\n",
    "            \"lowercase\",\n",
    "            \"filter_stemmer\"\n",
    "          ],\n",
    "          \"tokenizer\": \"standard\"\n",
    "        }\n",
    "      }\n",
    "    }\n",
    "   }\n",
    "})"
   ]
  },
  {
   "cell_type": "code",
   "execution_count": 86,
   "metadata": {},
   "outputs": [],
   "source": [
    "import json\n",
    "    \n",
    "with open('all_jobs.json', 'r') as f:\n",
    "    technojobs_dict = json.load(f)\n",
    "    #count = 0\n",
    "    for technojob in technojobs_dict:\n",
    "        #count+=1\n",
    "        my_id = technojob.pop('URL', None)\n",
    "        es.index(index='job', doc_type='job', body=json.dumps(technojob))\n",
    "        #if count >= 10:\n",
    "        #    break\n",
    "    \n",
    "#for technojob in technojobs_dict:\n",
    "#    print(technojob['title'])\n",
    "    \n",
    "\n"
   ]
  },
  {
   "cell_type": "code",
   "execution_count": 87,
   "metadata": {},
   "outputs": [],
   "source": [
    "def searchFunction(feature, search):\n",
    "    res = es.search(index=\"job\", doc_type=\"job\", body={\"query\": {\"match\": {feature: search}}})\n",
    "    print(\"%d documents found\" % res['hits']['total'])\n",
    "    for doc in res['hits']['hits']:\n",
    "        print(\"%s) %s\" % (doc['_id'], doc['_source'][feature]))\n",
    "        \n",
    "def searchFunctionAllFeatures(search):\n",
    "    res = es.search(index=\"job\", doc_type=\"job\", body={\"query\": {\"multi_match\" : {\n",
    "            \"query\" : search,\n",
    "            \"fields\": [\"title^3\", \"description\",\"location\",\"URL\"]#makes the title three times more important\n",
    "        }}})\n",
    "    print(\"%d documents found\" % res['hits']['total'])\n",
    "    for doc in res['hits']['hits']:\n",
    "        print(\"%s) %s\" % (doc['_id'], doc['_source']))"
   ]
  },
  {
   "cell_type": "code",
   "execution_count": 93,
   "metadata": {},
   "outputs": [
    {
     "name": "stdout",
     "output_type": "stream",
     "text": [
      "139 documents found\n",
      "6A2EFWkBP7Y1UR11_nWA) data scientist\n",
      "5w2EFWkBP7Y1UR11-nQr) lead data scientist uk\n",
      "og2FFWkBP7Y1UR11AXaX) data engineer data scientist\n",
      "hQ2FFWkBP7Y1UR11BXeB) senior data scientist\n",
      "SQ2EFWkBP7Y1UR115nCk) data scientist ai engineer\n",
      "Vg2FFWkBP7Y1UR11AHZV) data scientist greek speaking\n",
      "mw2EFWkBP7Y1UR1142_A) health insurance data scientist london\n",
      "Ow2EFWkBP7Y1UR1183MA) bioprocessing scientist\n",
      "eg2EFWkBP7Y1UR1163HD) nlp scientist\n",
      "7w2EFWkBP7Y1UR116XBp) senior research scientist\n"
     ]
    }
   ],
   "source": [
    "searchFunction(\"title\",\"data scientist\")"
   ]
  },
  {
   "cell_type": "code",
   "execution_count": 94,
   "metadata": {},
   "outputs": [
    {
     "name": "stdout",
     "output_type": "stream",
     "text": [
      "52 documents found\n",
      "dg2EFWkBP7Y1UR1173L0) {'title': 'hadoop data engineer', 'company': 'computer futures', 'description': \"working market leading data consultancy helps customers manage multiple data types countless varied sources helping solutions data lake machine learning cyber security work closely data scientists help design methods collecting integrating variety data used predictive analytics data science uses apply big data technologies hadoop spark streams also nosql data management experience large multi-structured data sets work closely customer 's businesses need master 's degree equivalent computer science computer engineering computer applications related field 2 years experience linux hadoop oracle informatica teradata used tools technologies kafka cassandra storm spark streams nosql looking new position think skills needed please apply cv today find computer futures please visit www.computerfutures.com computer futures trading division sthree partnership llp acting employment agency relation vacancy registered office 1st floor 75 king william street london ec4n 7be united kingdom partnership number oc387148 england wales\", 'location': 'london'}\n",
      "FQ2EFWkBP7Y1UR11-nX-) {'title': 'devops engineer', 'company': 'real staffing', 'description': 'currently recruiting hadoop devops engineer large scale central government organisation successful devops engineer extensive experience hadoop aws successful candidate must current live sc clearance key skills demonstrated devops hadoop platform major government programme help deliver develop continuous integration pipeline hadoop stack help design deliver target cloud infrastructure hadoop stack analysis authoring user stories detailed design development code scripts configuration build automation provide specialist hadoop big data expertise engage members scrum team ensure technology meets user needs prototype prove concepts quickly identify mitigate risks development technology skills required skills split 70 devops 30 hadoop excellent overall knowledge dev ops continuous delivery environment build large development programmes excellent knowledge cloud hosting virtualised infrastructure demonstrable experience infrastructure code strong hands-on experience virtualisation cloud technologies vmware vcloud aws others experience low level environment design strong experience infrastructure automation tools blueprints puppet chef deep understanding linux and/or unix operating systems experience administering one database products including hadoop hdfs experience using monitoring tools good understanding security would interested hearing role please apply find real please visit www.realstaffing.com real staffing trading division sthree partnership llp acting employment business relation vacancy| registered office 1st floor 75 king william street london ec4n 7be united kingdom partnership number oc387148 england wales', 'location': 'london'}\n",
      "KQ2FFWkBP7Y1UR11A3f0) {'title': 'gcp big data engineer london based month contract', 'company': 'evolution recruitment solutions ltd', 'description': 'currently require services big data engineer work well respected client based london key skills required • expert level experience designing building managing applications process large amounts data hadoop ecosystem • strong gcp experience • extensive experience performance tuning applications hadoop configuring hadoop systems maximise performance • experience building systems perform real-time data processing using spark streaming kafka similar technologies • experience common sdlc including scm build tools unit testing tdd/bdd continuous delivery agile practises • experience working large-scale multi tenancy hadoop environments must technical professional qualifications • expert level experience hadoop ecosystem spark hive/impala hbase yarn desirable experience cloudera distribution • strong software development experience scala python programing languages functional languages desirable • experience unix-based systems including bash programming • experience columnar data formats • experience distributed technologies cassandra solr/elasticsearch flink flume would also desirable', 'location': 'london'}\n",
      "hw2EFWkBP7Y1UR118HI_) {'title': 'aws big data engineer london k', 'company': 'nigel frank international', 'description': 'aws python java ec2 s3 big data hadoop redshift sql cloud watch python programming python scripti aws big data engineer digital transformation bromley £85k+cross-training bonus client looking aws big data engineer proven experience working aws/azure lead charge aws migration application building challenging role insurance industry responsible creating data pipelines developing digital updates using scrum framework take aws big data career next level ... development well-designed code stakeholders take ownership uniform engineering work supporting big data ai/ml strategies stakeholders managing functional technical requirements clients champion agile frameworks need ... experience working aws ec2 s3 lambda etc commercial experience using big data technologies hadoop hive etc experience programming tools python java r ability create data pipelines great client facing skills hard work put definitely rewarded client benefits incentives include competitive salary good bonus private medical care great pension scheme enticing holiday entitlement great opportunity take big data career next level looking hire asap find exciting opportunity hesitate contact click contact recruiter click contact recruiter telephone number removed 88 aws python java ec2 s3 big data hadoop redshift sql cloud watch python programming python scripting', 'location': 'london'}\n",
      "PQ2EFWkBP7Y1UR11-3Wt) {'title': 'aws devops developer', 'company': 'nigel frank international', 'description': \"devops developer 6 months view extend central london role summary looking specialist software developer strong devops mindset work within infrastructure product group team consists devops lead devops engineers team manager secops engineers main responsibility support maintain collection database technologies cloud estate aws take personal responsibility driving cloud database usage optimisation administration automation aligned best practices need sc cleared eligible clearance support maintain cloud estate aws drive infrastructure optimisation automation around management databases responsible creation management database provisioning scripts oracle rds aurora redshift hadoop/cloudera responsible deep technical troubleshooting database issues cloud support manage existing linux server estate role completely site 5 days office also involve week 's on-call duties rota based however paid additional 6th day duties required skills experience redhat enterprise linux experience rhce certified rhel7 solid experience supporting enterprise aws environments architect design provision setup network monitoring aws devops/sysops certified great commercial exposure working chef/ansible/puppet experience devops dba related role previous experience building managing cloudera deployments on-premise hadoop clusters scripting build management aws rds hand crafting etls python language building managing oracle db technologies experience security hardening oracle/hadoop databases background dba proven experience database management e.g troubleshoot database performance issues skills experience good amount exposure devops tools practices git jenkins docker nexus experience monitoring tools splunk datadog qualys sound like n't hesitate get touch best luck applications\", 'location': 'london'}\n",
      "eg2EFWkBP7Y1UR11_HWn) {'title': 'aws devops engineer', 'company': 'spring group plc', 'description': 'client currently recruiting sc cleared aws devops professional 12 month contract based city london 12 months based city london responsibilities support maintain cloud estate aws drive infrastructure optimisation automation around management databases responsible creation management database provisioning scripts oracle rds aurora redshift hadoop/cloudera responsible deep technical troubleshooting database issues cloud support manage existing linux server estate essential skills security clearance sc cleared willing undergo clearance procedure site 3+ years proven redhat enterprise linux experience rhce certified rhel7 provide specific examples 3+ years proven experience supporting enterprise aws environments architect design provision setup network monitoring aws devops/sysops certified 3+ years hands experience chef/ansible/puppet scripting provide specific examples 2+ years proven experience devops dba related role reflected work history 2+ years experience building managing cloudera deployments on-premise hadoop clusters 2+ years experience scripting build management aws rds provide specific examples 2+ years experience hand crafting etls python language provide specific examples 3+ years building managing oracle db technologies e.g rac provide specific experience security hardening oracle/hadoop databases client offering competitive day rates wishes move quickly role interest please send copy cv spring acts employment agency permanent recruitment employment business supply temporary workers spring group uk equal opportunities employer applying role details submitted spring candidate privacy information statement explains use information please copy paste following link browser www.spring.com/candidate-privacy-information-statement', 'location': 'city of london'}\n",
      "8g2EFWkBP7Y1UR11_nWr) {'title': 'devops engineer', 'company': 'real staffing', 'description': 'devops engineer leading utility client looking multiple devops engineer work growing team support innovative projects across business extensive devops experience aws looking build new aws infrastructure automate workflow data processes previous experience working across aws architecture security big data platforms hadoop distinct advantage eexperience building developing tools tdd bdd continuous integration also benefit role looking automate development testing deployment process ensure aws platform fit purpose knowledge require- aws jenkins ansible play docker automation experience hadoop spark emr python please apply updated cv successful candidates contacted direct find real please visit www.realstaffing.com real staffing trading division sthree partnership llp acting employment business relation vacancy| registered office 1st floor 75 king william street london ec4n 7be united kingdom partnership number oc387148 england wales', 'location': 'london'}\n",
      "IQ2EFWkBP7Y1UR114W-i) {'title': 'senior java developer data privacy', 'company': 'client server', 'description': \"senior java developer data privacy data sql hadoop help solve one society 's urgent issues around personal data privacy protection working alongside extremely talented java software data science professionals joining collaborative agile team 'll combine state art technologies leading-edge algorithms understand effectively tackle hard data security data anonymisation problems 'll joining team first class software engineers care deeply quality maintainability code working complex interesting problems environment encourages knowledge sharing continual improvement 'll encouraged innovate keep date emerging technologies utilising big data technologies spark hadoop graphlab 'll based cool start-up offices modern spacious environment friendly team atmosphere requirements *strong java development experience including multi-threading concurrent programming *full lifecycle development experience software product *good knowledge test automation *familiar sql rdbms technology *enjoy statistics maths intrigued topics privacy-preserving data mining differential privacy homomorphic encryption *collaborative team player enjoys mentoring well learning *degree educated computer science preferred *highly desirable spark hadoop graphlab aws cloud platform python distributed algorithm design java developer java software engineer earn highly competitive salary £100k plus benefits apply call confidential discussion java developer java software engineer opportunity\", 'location': 'london'}\n",
      "kw2EFWkBP7Y1UR119HN0) {'title': 'data engineer', 'company': 'nigel frank international', 'description': \"aws big data engineer london urgent big data engineer needed london data engineer reponsible designing building implementing hadoop infrastructure aws environment ideal candidate following skills aws clouera hadoop distribution experience spark clusters knowledge setting running big data clusters skills metadata repositories technologies knowledge programming languages eg java c ruby python javascript php role include building end end hadoop cluster solutions safe environment design build shape implement big data tools services dynamic member team provide determination architecture design build implementation big data platform components urgent requirement interviews looking taking place soon avoid disappointment please get touch jefferson frank amazon web services aws recruiter choice work organizations worldwide find deliver best aws professionals planet backed private equity firm tpg growth proven track record servicing aws recruitment market date worked 30,000 organizations globally jefferson frank mission simple want happy customers whether 're aws professional walking dream job organization hiring incredible contractor cloud migration project goal deliver unrivalled customer experience recognize every customer whether 're job-seeker partner end user different requirements jefferson frank 'll get personalized experience deserve one 'll simply find recruitment agency discuss role aws opportunities detail please send cv click contact recruiter\", 'location': 'london'}\n",
      "aQ2EFWkBP7Y1UR11-HQG) {'title': 'senior data engineer big data start up london k aws', 'company': 'nigel frank international', 'description': \"aws python java ec2 s3 big data hadoop redshift sql cloud watch python programming python scripting london senior data engineer big data start-up london £90k+aws big data cross-training bonus ***looking speak talented data engineers passion python showcasing data management *** aws big data silo one uk 's household names leading charge greenfield development put aws big data solutions core business transformation ... develop deliver updates digital wallet design build application architecture advocate aws big data solutions champion across business development different application packages lead small team need ... experience sql expert python experience aws s3 ec2 lambda etc data transformation good communication skills hard work put definitely rewarded client benefits incentives include competitive salary benchmarked competitors private medical care great pension scheme enticing holiday entitlement looking hire asap find exciting opportunity hesitate contact click contact recruiter click contact recruiter telephone number removed 88 aws python java ec2 s3 big data hadoop redshift sql cloud watch python programming python scripting london\", 'location': 'london'}\n"
     ]
    }
   ],
   "source": [
    "searchFunctionAllFeatures(\"hadoop\")"
   ]
  },
  {
   "cell_type": "code",
   "execution_count": null,
   "metadata": {},
   "outputs": [],
   "source": []
  }
 ],
 "metadata": {
  "kernelspec": {
   "display_name": "Python 3",
   "language": "python",
   "name": "python3"
  },
  "language_info": {
   "codemirror_mode": {
    "name": "ipython",
    "version": 3
   },
   "file_extension": ".py",
   "mimetype": "text/x-python",
   "name": "python",
   "nbconvert_exporter": "python",
   "pygments_lexer": "ipython3",
   "version": "3.6.5"
  }
 },
 "nbformat": 4,
 "nbformat_minor": 2
}
