{
 "cells": [
  {
   "cell_type": "code",
   "execution_count": 2,
   "metadata": {},
   "outputs": [
    {
     "data": {
      "text/plain": [
       "<Elasticsearch([{'host': 'localhost', 'port': 9200}])>"
      ]
     },
     "execution_count": 2,
     "metadata": {},
     "output_type": "execute_result"
    }
   ],
   "source": [
    "# good tutorial for elasticsearch python http://nitin-panwar.github.io/Elasticsearch-tutorial-for-beginners-using-Python/\n",
    "#https://elasticsearch-py.readthedocs.io/en/master/\n",
    "#http://snowsyn.net/2016/10/25/having-fun-with-elasticsearch-and-python/\n",
    "#https://marcobonzanini.com/2015/02/02/how-to-query-elasticsearch-with-python/\n",
    "#https://www.elastic.co/guide/en/elasticsearch/guide/current/routing-value.html for the report how distributed indexing works\n",
    "#http://xpo6.com/using-elasticsearch-analyzer-remove-stop-words-from-text/\n",
    "#https://www.elastic.co/guide/en/elasticsearch/guide/current/data-in-data-out.html  every field has a dedicated inverted index for fast retrieval.\n",
    "#https://dzone.com/articles/23-useful-elasticsearch-example-queries\n",
    "\n",
    "from elasticsearch import Elasticsearch \n",
    "# Connect to the elastic cluster\n",
    "es=Elasticsearch([{'host':'localhost','port':9200}])\n",
    "es"
   ]
  },
  {
   "cell_type": "code",
   "execution_count": 3,
   "metadata": {},
   "outputs": [
    {
     "name": "stdout",
     "output_type": "stream",
     "text": [
      "{'first_name': 'nitin', 'last_name': 'panwar', 'age': 27, 'about': 'Love to play cricket', 'interests': ['sports', 'music']}\n"
     ]
    }
   ],
   "source": [
    "e1={\n",
    "    \"first_name\":\"nitin\",\n",
    "    \"last_name\":\"panwar\",\n",
    "    \"age\": 27,\n",
    "    \"about\": \"Love to play cricket\",\n",
    "    \"interests\": ['sports','music'],\n",
    "}\n",
    "print(e1)"
   ]
  },
  {
   "cell_type": "code",
   "execution_count": 15,
   "metadata": {},
   "outputs": [],
   "source": [
    "res = es.index(index='megacorp',doc_type='employee',id=1,body=e1)"
   ]
  },
  {
   "cell_type": "code",
   "execution_count": 8,
   "metadata": {},
   "outputs": [],
   "source": [
    "# Let's insert some more documents\n",
    "e2={\n",
    "    \"first_name\" :  \"Jane\",\n",
    "    \"last_name\" :   \"Smith\",\n",
    "    \"age\" :         32,\n",
    "    \"about\" :       \"I like to collect rock albums\",\n",
    "    \"interests\":  [ \"music\" ]\n",
    "}\n",
    "e3={\n",
    "    \"first_name\" :  \"Douglas\",\n",
    "    \"last_name\" :   \"Fir\",\n",
    "    \"age\" :         35,\n",
    "    \"about\":        \"I like to build cabinets\",\n",
    "    \"interests\":  [ \"forestry\" ]\n",
    "}"
   ]
  },
  {
   "cell_type": "code",
   "execution_count": 19,
   "metadata": {},
   "outputs": [],
   "source": [
    "res=es.index(index='megacorp',doc_type='employee',id=2,body=e2)\n",
    "res=es.index(index='megacorp',doc_type='employee',id=3,body=e3)"
   ]
  },
  {
   "cell_type": "code",
   "execution_count": 21,
   "metadata": {},
   "outputs": [
    {
     "name": "stdout",
     "output_type": "stream",
     "text": [
      "{'_index': 'megacorp', '_type': 'employee', '_id': '3', '_version': 1, '_seq_no': 0, '_primary_term': 1, 'found': True, '_source': {'first_name': 'Douglas', 'last_name': 'Fir', 'age': 35, 'about': 'I like to build cabinets', 'interests': ['forestry']}}\n"
     ]
    }
   ],
   "source": [
    "res=es.get(index='megacorp',doc_type='employee',id=3)\n",
    "print(res)"
   ]
  },
  {
   "cell_type": "code",
   "execution_count": 23,
   "metadata": {},
   "outputs": [
    {
     "name": "stdout",
     "output_type": "stream",
     "text": [
      "{'first_name': 'Douglas', 'last_name': 'Fir', 'age': 35, 'about': 'I like to build cabinets', 'interests': ['forestry']}\n"
     ]
    }
   ],
   "source": [
    "print(res['_source'])"
   ]
  },
  {
   "cell_type": "code",
   "execution_count": 25,
   "metadata": {},
   "outputs": [
    {
     "data": {
      "text/plain": [
       "{'acknowledged': True}"
      ]
     },
     "execution_count": 25,
     "metadata": {},
     "output_type": "execute_result"
    }
   ],
   "source": [
    "#res=es.delete(index='megacorp',doc_type='employee',id=1)\n",
    "#res=es.delete(index='megacorp',doc_type='employee',id=2)\n",
    "#res=es.delete(index='megacorp',doc_type='employee',id=3)\n",
    "\n",
    "#job = {\n",
    "#    \"title\": \"technology returner programme\", \"company\": \"nomura\", \"description\": \"nomura diversity critical success harness value perspectives employees different work family experience backgrounds bring firm past experience invaluable us nomura technology division pleased launching first returner programme looking individuals taken career break 18months much longer looking return workplace successful candidates receive significant training support help transition new role world technology fast moving excellent opportunities find fulfilling role also provides flexibility need roles available 4 5 day week basis nomura financial services group integrated global network spanning 30 countries head offices asia connecting markets east west service needs individuals institutions corporates governments four business divisions retail asset management wholesale global markets investment banking merchant banking offer technology returner programme based london office designed experienced professionals ready build previous skills experience want embrace new opportunities ahead paid programme commences april 29th finishes 19th july 2019. end 3-month programme participants invited apply number open roles offer number type roles available outlined programme \\u2019 guarantee permanent role ensure developed valuable skills exposure wide-reaching influential network involvement high impact projects global financial services company looking returners join us previous experience business analysts project managers developers specific opportunities offer include strategic projects manager cto office software engineer business analyst team leader security consultant project manager hybrid project manager/it business analyst programme open women men career break least 18 months minimum number 5 years professional experience need able work city based london office duration programme eligible work uk april 2019 july 2019. opportunities available 4 5 days week basis pending preference supported goal support back workplace get taste career global investment bank support line manager coach buddy also employee networks join build network across firm prior 12 weeks provided pre-commencement coaching training day inclusivity one day induction organisation three personal coaching sessions delivered inclusivity \\u2019 specialist coach relevant technical training role remuneration benefits opportunity salary aligned market rates also access programme nomura services emergency childcare adult dependent care fitness centre onsite restaurant onsite gp nurse dental practice apply help application process questions hesitate contact us submit c.v. cover letter online tuesday 5th march latest please ensure c.v. shows career break least 18 months immediately preceding date application programme help us get know better include cover letter 've taken break work include motivates want return please place cover letter document cv shortlisted inclusivity touch organise first interview please click 'apply button redirected website\", \"location\": \"london\", \"URL\": \"https://www.technojobs.co.uk/job/2620662/technology-returner-programme/\"}, {\"title\": \"mobile developer in test javascript appium mocha chai\", \"company\": \"client server\", \"description\": \"mobile developer test javascript appium mocha chai city based financial software house provide range web based trading single-dealer platforms seeking mobile developer test experience testing mobile front end applications six month contract city office mobile developer test responsible developing automated test cases test frameworks new functionality within jenkins environment include functional non-functional testing using variety open source tools libraries 'll collaborate ux designers product owners define implement unit acceptance integration performance tests relaxed city based offices table tennis football casual dress code flexible working requirements *experience testing mobile applications appium *experience javascript testing frameworks including mocha chai *experience working jenkins *experience software tester developer test good appreciation test automation *passionate code quality advocate clean code principles *excellent analysis problem solving skills meticulous attention detail *nice mobile testing experience react react native apply call confidential discussion developer test contract opportunity mobile developer test javascript appium mocha chai rate \\u00a3400 \\u00a3450 p/day location london city term 6 months start immediate asap\", \"location\": \"london\", \"URL\": \"https://www.technojobs.co.uk/job/2624214/mobile-developer-in-test-javascript-appium-mocha-chai/\"\n",
    "#    }\n",
    "\n",
    "#res=es.index(index='technojobs',doc_type='jobs',id=1,body=job)\n",
    "#print(res)\n",
    "#es.indices.delete(index='technojobs', ignore=[400, 404])"
   ]
  },
  {
   "cell_type": "code",
   "execution_count": 24,
   "metadata": {},
   "outputs": [
    {
     "data": {
      "text/plain": [
       "{'acknowledged': True, 'shards_acknowledged': True, 'index': 'job'}"
      ]
     },
     "execution_count": 24,
     "metadata": {},
     "output_type": "execute_result"
    }
   ],
   "source": [
    "es.indices.create(index='job', body={\n",
    "   'settings' : {\n",
    "         'index' : {\n",
    "              'number_of_shards':5\n",
    "         },\n",
    "    \"analysis\": {\n",
    "      \"filter\": {\n",
    "        \"filter_stemmer\": {\n",
    "          \"type\": \"stemmer\",\n",
    "          \"language\": \"english\"\n",
    "        },\n",
    "            \"stopwordEn\": {\n",
    "            \"type\":       \"stop\",\n",
    "            \"stopwords\":  \"_english_\"\n",
    "        }\n",
    "      },\n",
    "      \"analyzer\": {\n",
    "        \"tags_analyzer\": {\n",
    "          \"type\": \"custom\",\n",
    "          \"filter\": [\n",
    "            \"standard\",\n",
    "            \"lowercase\",\n",
    "            \"filter_stemmer\"\n",
    "          ],\n",
    "          \"tokenizer\": \"standard\"\n",
    "        }\n",
    "      }\n",
    "    }\n",
    "   }\n",
    "})"
   ]
  },
  {
   "cell_type": "code",
   "execution_count": 26,
   "metadata": {},
   "outputs": [],
   "source": [
    "import json\n",
    "    \n",
    "with open('technojobs_2361_listings_clean.json', 'r') as f:\n",
    "    technojobs_dict = json.load(f)\n",
    "    #count = 0\n",
    "    for technojob in technojobs_dict:\n",
    "        #count+=1\n",
    "        my_id = technojob.pop('URL', None)\n",
    "        es.index(index='job', doc_type='job', id=my_id, body=json.dumps(technojob))\n",
    "        #if count >= 10:\n",
    "        #    break\n",
    "    \n",
    "#for technojob in technojobs_dict:\n",
    "#    print(technojob['title'])\n",
    "    \n",
    "\n"
   ]
  },
  {
   "cell_type": "code",
   "execution_count": 64,
   "metadata": {},
   "outputs": [],
   "source": [
    "def searchFunction(feature, search):\n",
    "    res = es.search(index=\"job\", doc_type=\"job\", body={\"query\": {\"match\": {feature: search}}})\n",
    "    print(\"%d documents found\" % res['hits']['total'])\n",
    "    for doc in res['hits']['hits']:\n",
    "        print(\"%s) %s\" % (doc['_id'], doc['_source'][feature]))\n",
    "        \n",
    "def searchFunctionAllFeatures(search):\n",
    "    res = es.search(index=\"job\", doc_type=\"job\", body={\"query\": {\"multi_match\" : {\n",
    "            \"query\" : search,\n",
    "            \"fields\": [\"title^3\", \"description\",\"location\",\"URL\"]#makes the title three times more important\n",
    "        }}})\n",
    "    print(\"%d documents found\" % res['hits']['total'])\n",
    "    for doc in res['hits']['hits']:\n",
    "        print(\"%s) %s\" % (doc['_id'], doc['_source']))"
   ]
  },
  {
   "cell_type": "code",
   "execution_count": 68,
   "metadata": {},
   "outputs": [
    {
     "name": "stdout",
     "output_type": "stream",
     "text": [
      "147 documents found\n",
      "https://www.technojobs.co.uk/job/2624621/software-engineers/) software engineers\n",
      "https://www.technojobs.co.uk/job/2628435/software-engineer/) software engineer\n",
      "https://www.technojobs.co.uk/job/2631605/software-engineer/) software engineer\n",
      "https://www.technojobs.co.uk/job/2630092/software-developers/) software developers\n",
      "https://www.technojobs.co.uk/job/2623686/software-architect/) software architect\n",
      "https://www.technojobs.co.uk/job/2623862/software-developer/) software developer\n",
      "https://www.technojobs.co.uk/job/2624032/software-architect/) software architect\n",
      "https://www.technojobs.co.uk/job/2623680/software-engineer/) software engineer\n",
      "https://www.technojobs.co.uk/job/2634506/software-engineer/) software engineer\n",
      "https://www.technojobs.co.uk/job/2621912/software-engineer-software-developer-python-deep-learning/) software engineer software developer python deep learning \n"
     ]
    }
   ],
   "source": [
    "searchFunction(\"title\",\"software\")"
   ]
  },
  {
   "cell_type": "code",
   "execution_count": 69,
   "metadata": {},
   "outputs": [
    {
     "name": "stdout",
     "output_type": "stream",
     "text": [
      "112 documents found\n",
      "https://www.technojobs.co.uk/job/2636373/account-director/) {'title': 'account director', 'company': 'ic creative', 'description': 'account directors b2b experience join fun award winning agency agency specialises b2b branding digital internal/external comms large fs clients due nature clients account director needs find pleasure large strategic projects long lead times complex regulated campaigns account director leading team main go large client important part creative process sitting strategists coming engaging intelligent copy flawless internal comms innovative research account director lot responsibility supported fun energetic sad fun agency really live friday drinks team get togethers winning new business time recently enviable awards want know', 'location': 'london'}\n",
      "https://www.technojobs.co.uk/job/2631993/senior-account-manager/) {'title': 'senior account manager', 'company': 'ic creative', 'description': 'exciting opportunity senior account manager join fun well-known advertising agency london role integrated senior account manager take responsibility running innovative financial app account push drive new business opportunities working closely client providing creative solutions tv social digital campaigns well walking corridors clients ensure growth senior account manager need passionate good creative button hard working importantly fun team player outgoing enjoys high energy culture top agency known innovative ideas forwarding thinking approach culture clients winning awards want know', 'location': 'london'}\n",
      "https://www.technojobs.co.uk/job/2627559/account-director/) {'title': 'account director', 'company': 'ic creative', 'description': 'independent award winning advertising agency looking lead account director join high energy team account director main point contact agencies retained clients working across ttl campaigns tv digital social important account director experience coaching leading team enjoys wearing many hats able commercial agency pitching lot moment exposed fast turn around opportunities looking fun agency work works solid ethos produces exceptional creative get touch', 'location': 'london'}\n",
      "https://www.technojobs.co.uk/job/2629087/senior-javascript-developer/) {'title': 'senior javascript developer', 'company': 'nigel frank international', 'description': \"full stack developer central london travel industry focused tech stack node/react salary £70,000 £80,000 doe benefits full stack developer fun culture awesome project holiday deals pizza see details end company large globally successful travel organisation looking `` work hard play hard '' developer part fun cultured team take pride improving daily take challenges head first ideal full stack developer would fit well team like team company pride social energetic team love work state art technology full stack developer team around 20 developers take `` '' attitude towards complex projects role full stack developer duties involve proactively contribute develop system architecture accordance strategic direction company lead development code review activities responsible code level design code organization use appropriate patterns code quality successful implementation solution take ownership code quality metrics maintenance aspects assist ongoing refinement development delivery methodologies guide mentor team members benefits full stack developer benefits include discounts travel wellbeing perks season ticket loans childcare vouchers pension local discounts playstation competitions beer wine days pizza days free breakfast interested full stack developer position call telephone number removed 'm liam email click contact recruiter n't sure still get touch 'm always talk opportunities detail\", 'location': 'city of london'}\n",
      "https://www.technojobs.co.uk/job/2634722/event-project-managerproducer/) {'title': 'event project manager producer', 'company': 'ic creative', 'description': 'event project manager/producer £43k fun whacky events experiential agency central london looking project manager join team project manager getting involved live events immersive experiences architectural installations public events responsible creative projects beginning end including client contact budgets staffing even creative right project manager role extremely creatives flamboyant organised enjoy projects quick turn rounds sometimes impossible budgets real team player dream role anyone within experiential/theatrical world wants build mad often widely talked events interested know get touch jess ic-creative', 'location': 'london'}\n",
      "https://www.technojobs.co.uk/job/2633669/salesforce-administrator-london-up-to-40000/) {'title': 'salesforce administrator london up to ', 'company': 'nigel frank international', 'description': 'mason frank international partnered one respected largest media organisations world looking someone ambitious able work fun fast paced environment wants part large projects key responsibilities support salesforce users including roles profiles permissions etc system changes solve business problems configuration changes system including managing workflow process flows logging tracking problems resolution working various stakeholders make continual improvements system based new requirements user feedback required skills sound like something would interested want talk opportunities send cv click contact recruiter call telephone number removed complete confidence asap', 'location': 'london'}\n",
      "https://www.technojobs.co.uk/job/2636419/account-director/) {'title': 'account director', 'company': 'ic creative', 'description': 'fun customer engagement agency farringdon looking account director join growing team run biggest account opportunity seasoned account director get stuck interesting strategic projects digital social crm agency looking account director direct digital crm social experience work quickly efficiently confident managing team including odd freelancer jumping onto variety projects including pitches working commercially ceo agency small exposure responsibility huge account director challenge enjoy strategy customer engagement get touch want know email click contact recruiter', 'location': 'london'}\n",
      "https://www.technojobs.co.uk/job/2632237/crm-manager-salesforce-marketing-cloud-london/) {'title': 'crm manager salesforce marketing cloud london', 'company': 'nigel frank international', 'description': 'crm manager london crm manager taking ownership crm strategy well responsible managing one crm executive although view grow team near future also working hands salesforce marketing cloud relatively new implementation working fast growing business already well established great reputation industry fast paced fun environment also open structure lot collaboration due projected growth business lot opportunity grow within role key skills experience crm marketing automation role hands experience salesforce marketing cloud journey builder automation studio analysis reporting segmentation contact stevie stannard-martin telephone number removed email cv click contact recruiter details remain strictest confidence', 'location': 'london'}\n",
      "https://www.technojobs.co.uk/job/2624482/salesforce-system-administrator-west-london-up-to-45000/) {'title': 'salesforce system administrator west london up to ', 'company': 'nigel frank international', 'description': 'mason frank international partnered one respected largest events organisations world looking someone ambitious able work fun fast paced environment wants part large projects role working alongside experienced team able expand knowledge also charge whole maintenance whole salesforce platform key responsibilities administration support salesforce users including roles profiles permissions etc system changes solve business problems configuration changes system including managing workflow rules formula field etc logging tracking problems resolution working various stakeholders make continual improvements system based new requirements user feedback supporting qa uat release changes required skills sound like something would interested want talk opportunities send cv click contact recruiter call telephone number removed complete confidence asap', 'location': 'london'}\n",
      "https://www.technojobs.co.uk/job/2624207/cloud-practice-lead-london-140k/) {'title': 'cloud practice lead london k', 'company': 'nigel frank international', 'description': \"b2b-services marketplace platform looking driven forward-thinking cloud platform lead lead manage growing team highly skilled engineers become integral part fast-growing enterprise given keys data centre scope determine future progression department responsible uptime well performance stability platform 'll highly influential designing operating platform monitoring disaster recovery strategies work aws cloud services ec2 rds cloudwatch etc linux environments python scripting automation continuous integration release management practices ensuring timely releases package/benefits extremely competitive salary £140k equity options flexible working hours fun sociable environment loads\", 'location': 'london'}\n"
     ]
    }
   ],
   "source": [
    "searchFunctionAllFeatures(\"fun\")"
   ]
  },
  {
   "cell_type": "code",
   "execution_count": null,
   "metadata": {},
   "outputs": [],
   "source": []
  }
 ],
 "metadata": {
  "kernelspec": {
   "display_name": "Python 3",
   "language": "python",
   "name": "python3"
  },
  "language_info": {
   "codemirror_mode": {
    "name": "ipython",
    "version": 3
   },
   "file_extension": ".py",
   "mimetype": "text/x-python",
   "name": "python",
   "nbconvert_exporter": "python",
   "pygments_lexer": "ipython3",
   "version": "3.6.5"
  }
 },
 "nbformat": 4,
 "nbformat_minor": 2
}
