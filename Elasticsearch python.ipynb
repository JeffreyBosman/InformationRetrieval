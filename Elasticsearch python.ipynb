{
 "cells": [
  {
   "cell_type": "code",
   "execution_count": 1,
   "metadata": {},
   "outputs": [
    {
     "data": {
      "text/plain": [
       "<Elasticsearch([{'host': 'localhost', 'port': 9200}])>"
      ]
     },
     "execution_count": 1,
     "metadata": {},
     "output_type": "execute_result"
    }
   ],
   "source": [
    "# good tutorial for elasticsearch python http://nitin-panwar.github.io/Elasticsearch-tutorial-for-beginners-using-Python/\n",
    "#https://elasticsearch-py.readthedocs.io/en/master/\n",
    "#http://snowsyn.net/2016/10/25/having-fun-with-elasticsearch-and-python/\n",
    "#https://marcobonzanini.com/2015/02/02/how-to-query-elasticsearch-with-python/\n",
    "#https://www.elastic.co/guide/en/elasticsearch/guide/current/routing-value.html for the report how distributed indexing works\n",
    "#http://xpo6.com/using-elasticsearch-analyzer-remove-stop-words-from-text/\n",
    "#https://www.elastic.co/guide/en/elasticsearch/guide/current/data-in-data-out.html  every field has a dedicated inverted index for fast retrieval.\n",
    "#https://dzone.com/articles/23-useful-elasticsearch-example-queries\n",
    "\n",
    "from elasticsearch import Elasticsearch \n",
    "# Connect to the elastic cluster\n",
    "es=Elasticsearch([{'host':'localhost','port':9200}])\n",
    "es"
   ]
  },
  {
   "cell_type": "code",
   "execution_count": 2,
   "metadata": {},
   "outputs": [
    {
     "name": "stdout",
     "output_type": "stream",
     "text": [
      "{'first_name': 'nitin', 'last_name': 'panwar', 'age': 27, 'about': 'Love to play cricket', 'interests': ['sports', 'music']}\n"
     ]
    }
   ],
   "source": [
    "e1={\n",
    "    \"first_name\":\"nitin\",\n",
    "    \"last_name\":\"panwar\",\n",
    "    \"age\": 27,\n",
    "    \"about\": \"Love to play cricket\",\n",
    "    \"interests\": ['sports','music'],\n",
    "}\n",
    "print(e1)"
   ]
  },
  {
   "cell_type": "code",
   "execution_count": 3,
   "metadata": {},
   "outputs": [],
   "source": [
    "res = es.index(index='megacorp',doc_type='employee',id=1,body=e1)"
   ]
  },
  {
   "cell_type": "code",
   "execution_count": 4,
   "metadata": {},
   "outputs": [],
   "source": [
    "# Let's insert some more documents\n",
    "e2={\n",
    "    \"first_name\" :  \"Jane\",\n",
    "    \"last_name\" :   \"Smith\",\n",
    "    \"age\" :         32,\n",
    "    \"about\" :       \"I like to collect rock albums\",\n",
    "    \"interests\":  [ \"music\" ]\n",
    "}\n",
    "e3={\n",
    "    \"first_name\" :  \"Douglas\",\n",
    "    \"last_name\" :   \"Fir\",\n",
    "    \"age\" :         35,\n",
    "    \"about\":        \"I like to build cabinets\",\n",
    "    \"interests\":  [ \"forestry\" ]\n",
    "}"
   ]
  },
  {
   "cell_type": "code",
   "execution_count": 5,
   "metadata": {},
   "outputs": [],
   "source": [
    "res=es.index(index='megacorp',doc_type='employee',id=2,body=e2)\n",
    "res=es.index(index='megacorp',doc_type='employee',id=3,body=e3)"
   ]
  },
  {
   "cell_type": "code",
   "execution_count": 6,
   "metadata": {},
   "outputs": [
    {
     "name": "stdout",
     "output_type": "stream",
     "text": [
      "{'_index': 'megacorp', '_type': 'employee', '_id': '3', '_version': 1, '_seq_no': 0, '_primary_term': 1, 'found': True, '_source': {'first_name': 'Douglas', 'last_name': 'Fir', 'age': 35, 'about': 'I like to build cabinets', 'interests': ['forestry']}}\n"
     ]
    }
   ],
   "source": [
    "res=es.get(index='megacorp',doc_type='employee',id=3)\n",
    "print(res)"
   ]
  },
  {
   "cell_type": "code",
   "execution_count": 7,
   "metadata": {},
   "outputs": [
    {
     "name": "stdout",
     "output_type": "stream",
     "text": [
      "{'first_name': 'Douglas', 'last_name': 'Fir', 'age': 35, 'about': 'I like to build cabinets', 'interests': ['forestry']}\n"
     ]
    }
   ],
   "source": [
    "print(res['_source'])"
   ]
  },
  {
   "cell_type": "code",
   "execution_count": 8,
   "metadata": {},
   "outputs": [
    {
     "data": {
      "text/plain": [
       "{'acknowledged': True}"
      ]
     },
     "execution_count": 8,
     "metadata": {},
     "output_type": "execute_result"
    }
   ],
   "source": [
    "#res=es.delete(index='megacorp',doc_type='employee',id=1)\n",
    "#res=es.delete(index='megacorp',doc_type='employee',id=2)\n",
    "#res=es.delete(index='megacorp',doc_type='employee',id=3)\n",
    "\n",
    "#job = {\n",
    "#    \"title\": \"technology returner programme\", \"company\": \"nomura\", \"description\": \"nomura diversity critical success harness value perspectives employees different work family experience backgrounds bring firm past experience invaluable us nomura technology division pleased launching first returner programme looking individuals taken career break 18months much longer looking return workplace successful candidates receive significant training support help transition new role world technology fast moving excellent opportunities find fulfilling role also provides flexibility need roles available 4 5 day week basis nomura financial services group integrated global network spanning 30 countries head offices asia connecting markets east west service needs individuals institutions corporates governments four business divisions retail asset management wholesale global markets investment banking merchant banking offer technology returner programme based london office designed experienced professionals ready build previous skills experience want embrace new opportunities ahead paid programme commences april 29th finishes 19th july 2019. end 3-month programme participants invited apply number open roles offer number type roles available outlined programme \\u2019 guarantee permanent role ensure developed valuable skills exposure wide-reaching influential network involvement high impact projects global financial services company looking returners join us previous experience business analysts project managers developers specific opportunities offer include strategic projects manager cto office software engineer business analyst team leader security consultant project manager hybrid project manager/it business analyst programme open women men career break least 18 months minimum number 5 years professional experience need able work city based london office duration programme eligible work uk april 2019 july 2019. opportunities available 4 5 days week basis pending preference supported goal support back workplace get taste career global investment bank support line manager coach buddy also employee networks join build network across firm prior 12 weeks provided pre-commencement coaching training day inclusivity one day induction organisation three personal coaching sessions delivered inclusivity \\u2019 specialist coach relevant technical training role remuneration benefits opportunity salary aligned market rates also access programme nomura services emergency childcare adult dependent care fitness centre onsite restaurant onsite gp nurse dental practice apply help application process questions hesitate contact us submit c.v. cover letter online tuesday 5th march latest please ensure c.v. shows career break least 18 months immediately preceding date application programme help us get know better include cover letter 've taken break work include motivates want return please place cover letter document cv shortlisted inclusivity touch organise first interview please click 'apply button redirected website\", \"location\": \"london\", \"URL\": \"https://www.technojobs.co.uk/job/2620662/technology-returner-programme/\"}, {\"title\": \"mobile developer in test javascript appium mocha chai\", \"company\": \"client server\", \"description\": \"mobile developer test javascript appium mocha chai city based financial software house provide range web based trading single-dealer platforms seeking mobile developer test experience testing mobile front end applications six month contract city office mobile developer test responsible developing automated test cases test frameworks new functionality within jenkins environment include functional non-functional testing using variety open source tools libraries 'll collaborate ux designers product owners define implement unit acceptance integration performance tests relaxed city based offices table tennis football casual dress code flexible working requirements *experience testing mobile applications appium *experience javascript testing frameworks including mocha chai *experience working jenkins *experience software tester developer test good appreciation test automation *passionate code quality advocate clean code principles *excellent analysis problem solving skills meticulous attention detail *nice mobile testing experience react react native apply call confidential discussion developer test contract opportunity mobile developer test javascript appium mocha chai rate \\u00a3400 \\u00a3450 p/day location london city term 6 months start immediate asap\", \"location\": \"london\", \"URL\": \"https://www.technojobs.co.uk/job/2624214/mobile-developer-in-test-javascript-appium-mocha-chai/\"\n",
    "#    }\n",
    "\n",
    "#res=es.index(index='technojobs',doc_type='jobs',id=1,body=job)\n",
    "#print(res)\n",
    "#es.indices.delete(index='job', ignore=[400, 404])"
   ]
  },
  {
   "cell_type": "code",
   "execution_count": 9,
   "metadata": {},
   "outputs": [
    {
     "data": {
      "text/plain": [
       "{'acknowledged': True, 'shards_acknowledged': True, 'index': 'job'}"
      ]
     },
     "execution_count": 9,
     "metadata": {},
     "output_type": "execute_result"
    }
   ],
   "source": [
    "es.indices.create(index='job', body={\n",
    "   'settings' : {\n",
    "         'index' : {\n",
    "              'number_of_shards':5\n",
    "         },\n",
    "    \"analysis\": {\n",
    "      \"filter\": {\n",
    "        \"filter_stemmer\": {\n",
    "          \"type\": \"stemmer\",\n",
    "          \"language\": \"english\"\n",
    "        },\n",
    "            \"stopwordEn\": {\n",
    "            \"type\":       \"stop\",\n",
    "            \"stopwords\":  \"_english_\"\n",
    "        }\n",
    "      },\n",
    "      \"analyzer\": {\n",
    "        \"tags_analyzer\": {\n",
    "          \"type\": \"custom\",\n",
    "          \"filter\": [\n",
    "            \"standard\",\n",
    "            \"lowercase\",\n",
    "            \"filter_stemmer\"\n",
    "          ],\n",
    "          \"tokenizer\": \"standard\"\n",
    "        }\n",
    "      }\n",
    "    }\n",
    "   }\n",
    "})"
   ]
  },
  {
   "cell_type": "code",
   "execution_count": 10,
   "metadata": {},
   "outputs": [],
   "source": [
    "import json\n",
    "    \n",
    "with open('all_jobs.json', 'r') as f:\n",
    "    technojobs_dict = json.load(f)\n",
    "    #count = 0\n",
    "    for technojob in technojobs_dict:\n",
    "        #count+=1\n",
    "        my_id = technojob.pop('URL', None)\n",
    "        es.index(index='job', doc_type='job', body=json.dumps(technojob))\n",
    "        #if count >= 10:\n",
    "        #    break\n",
    "    \n",
    "#for technojob in technojobs_dict:\n",
    "#    print(technojob['title'])\n",
    "    \n",
    "\n"
   ]
  },
  {
   "cell_type": "code",
   "execution_count": 12,
   "metadata": {},
   "outputs": [
    {
     "data": {
      "text/plain": [
       "[{'company': 'nhs greater glasgow clyde',\n",
       "  'date_listed': '13-03-2019',\n",
       "  'description': \"Apply on employer's website                                                                                TO APPLY PLEASE ENSURE YOU ONLY DOWNLOAD, COMPLETE AND SUBMIT THE JOB PACK AVAILABLE FROM Applications are invited for the posts of Clinical Development Fellow in Urology based at Glasgow Royal Infirmary. This post would suit post foundation doctors or  doctors interested in developing their CV. The Clinical Development Fellow is placed within a clinical area and the post will afford successful applicants the opportunity to gain experience. Supervision and training will be provided to enable the Fellow to  develop their clinical skills. The postholder will be expected to participate fully in the work of the department/team and banding will be appropriate to intensity of the rota. The Clinical Development Fellow post will have two in built protected sessions  of professional development time. The successful candidate will agree the development area when they take up post. It is anticipated that the development elements would typically be in areas such as research, management, quality improvement or general practice.  The post is available from August 2019 for a period of 6 Months in the first instance. It is essential that candidates have completed foundation training or have equivalent overseas service. This post is not recognised for training purposes. Successful candidates  will have full registration with the GMC and hold a license to practise. CLOSING DATE: 5th April 2019.\",\n",
       "  'location': 'lanarkshire',\n",
       "  'salary': '£32.157 - £42.544 per annum',\n",
       "  'title': 'clinical development fellow in urology',\n",
       "  'lat': 51.509865,\n",
       "  'long': None},\n",
       " {'company': 'mcginnis loy associates ltd',\n",
       "  'date_listed': '13-03-2019',\n",
       "  'description': 'Apply now                                                                                  Mixed Tax Senior / Tax Accountant - TOP Accounting Firm   McGinnis Loy Associates is proud to be working with a Top Accounting Firm who are continuing to enjoy strong growth within their Central London offices. They are now seeking a Mixed Tax Senior (with a personal tax bias) who will be responsible for managing  a portfolio of corporate and personal tax clients including company directors, sole traders and HNWI’s, ensuring all compliance & advisory work is completed accurately and efficiently. Key duties for this 70% Compliance and 30% Advisory role include: • Managing basic corporate tax advisory projects that include stamp duty, P11D, non-resident landlord tax returns, ATED returns, trusts and HMRC enquiry work • Reviewing personal and corporate tax returns for SME businesses/owners in order to provide relevant advisory services • Dealing with various compliance issues around commercial property, estates & trust tax, share schemes/employee benefit schemes • Identifying and working with Managers on tax planning opportunities for growing the client base including family businesses • Keeping all personal tax clients up to date with progress, advising them of internal deadlines, payment amounts and dates for HMRC • Reviewing the Self-Assessment tax computations work prepared by junior members of staff • Liaising with HMRC in relation to any tax investigations and managing risk within the business • Ensuring all personal and corporate tax assignments are completed within agreed budgets • Providing ad-hoc work to the senior tax manager and partners.   To be considered for the role you should have experience in an Accounting Firm or specialist Tax Practice/Legal firm in a mixed tax role and used to dealing with a wide variety of taxes. Experience of overseeing junior staff/graduates would be preferred,  along with being able to manage your own portfolio of tax clients. Educated to degree level and ideally ATT/CTA qualified or ACA/ACCA qualified, you should have a strong team ethic, exceptional relationship building skills, work well under pressure yet still  deliver on time and budget.    On offer is a base salary to £45,000 depending on expertise along with life assurance & income protection schemes, pension and holidays. To apply for the position or for more information, please contact McGinnis Loy Associates (Reading) Office by telephone  or via email at admin@mcginnisloy. com    For other opportunities in Finance / Accounting or HR Services within London, the Thames Valley & Midlands please visit our website at http://www.mcginnisloy.com McGinnis Loy Associates Ltd is acting as an Employment Agency in relation to this vacancy, in  accordance with the Employment Agencies Act',\n",
       "  'location': 'london',\n",
       "  'salary': '£35.000 - £45.000 per annum',\n",
       "  'title': 'mixed tax senior tax accountant top accounting firm',\n",
       "  'lat': 51.509865,\n",
       "  'long': -0.118092},\n",
       " {'company': 'reed marketing creative',\n",
       "  'date_listed': '13-03-2019',\n",
       "  'description': 'Apply now                                                                                Are you an experienced Marketing Executive with a background from within Retail or Hospitality, looking for an immediate start with a widely recognised leading Restaurant brand? Marketing Executive - Immediate start £26000 - £30000 - Closing date - Monday 11th March 2019 @ 9am Temporary, prospectively temporary to permanent. Reed Marketing & Creative has been engaged by a leading Restaurant brand who have an immediate opportunity for an experienced and pro-active Marketing Executive. Reporting to the Head of Marketing, you will be integral to the success and co-ordination of the Marketing team, working across both online and offline strategy.\\xa0\\xa0 It is essential you have experience from the Retail or Hospitality sector, have background across online and offline marketing and thrive in a fast paced environment. Please forward your cv as the client is interviewing w/c 11th March 2019 Reed Specialist Recruitment Limited is an employment agency and employment business',\n",
       "  'location': 'london',\n",
       "  'salary': '£13.50 - £18.00 per hour',\n",
       "  'title': 'marketing executive leading celebrity restaurant brand ',\n",
       "  'lat': 51.509865,\n",
       "  'long': -0.118092},\n",
       " {'company': 'consult search selection',\n",
       "  'date_listed': '13-03-2019',\n",
       "  'description': 'Apply now                                                                                  NPD Engineer   Salary £25-£30k plus 10% bonus and benefits   The Company   My client is a successful medical devices company with products in 86 countries. Small but successful and growing, they are seeking a new product development engineer to join their team at new offices in South Yorkshire.   The Opportunity   This is an excellent opportunity for a recent biomedical engineering graduate with some or limited experience to join a growing organization and further their career. Reporting in to the Technical Manager and joining an experienced team you will work effectively  across other departments with staff at similar levels to produce a range of orthopaedic and implant based products focussed on correction and repair.   Focussing on customer needs and expectations you would apply your specialist and detailed technical expertise to problems and develops innovative, workable concepts. This will come with a firm understanding of muscular-skeletal structures and methods of  repair and correction and working with medical imaging outputs and conversion to 3D files.   You will also:     Produce new ideas, approaches or insights and creates innovative designs and prototypes. Generate intellectual property and considers the impact of work on others IP. Consider cost and ease of manufacture supporting functions. Identify the need for testing, contributes to the testing protocol and evaluation of results. Maintain a developing knowledge and application of material, medical product technology, innovation techniques, design engineering practice and orthopaedic science. Participate in project activities across NPD projects.   This will be to various ISO standards such as ISO 7000 and ISO 13485. You will also participate in design risk management. With reference to relevant ISO standards, contribute to Technical Files and produce and check engineering drawings.   About You   My client is looking for a gradate within bio-mechanical engineering or related area. In addition to this, experience within a regulated area of engineering design would be advantageous.   You are expected to demonstrate a competent level of 3D CAD (such as solidworks) and medical imaging processing software and basic skill in use of analytical (FEA) and project management tools.   Apply Today! Or for more information contact Sophia at Consult Search & Selection',\n",
       "  'location': 'southyorkshire',\n",
       "  'salary': '£25.000 - £30.000 per annum',\n",
       "  'title': 'new product development engineer',\n",
       "  'lat': 51.509865,\n",
       "  'long': None},\n",
       " {'company': 'insight recruitment solutions limited',\n",
       "  'date_listed': '13-03-2019',\n",
       "  'description': \"Apply now                                                                                  An excellent opportunity to join a leading City Lloyd's and company market underwriter at an exciting time in their growth and development. The role will have a broad range taking ownership over all technical underwriting accounts and data interfaces with  source systems. Duties will include the preparation of insurance and reinsurance financial account balance reconciliations, performing data quality analysis of financial accountants, working with ceded reinsurance on adjusted entries and supporting schedules,  analytics for DAC, UPR, line of business and underwriting income, providing support for internal and external audit, coordination with IT regarding interfaces and reconciliations, maintenance of documents and procedures and the ongoing development of enhanced  processes. The company has an excellent track record of providing ongoing career opportunities and challenges.\",\n",
       "  'location': 'london',\n",
       "  'salary': '£55.000 - £60.000 per annum',\n",
       "  'title': 'technical accountant',\n",
       "  'lat': 51.509865,\n",
       "  'long': -0.118092},\n",
       " {'company': 'hays specialist recruitment limited',\n",
       "  'date_listed': '13-03-2019',\n",
       "  'description': \"Apply now                                                                                  Reception Early Years Class Teacher in Weston  Your new company You will be working as a Reception Teacher for a Primary School in Weston which provides a stimulating curriculum and several opportunities for the children to have experiences outside the classroom and develop valuable life skills. The primary school is looking  for an NQT or an experienced teacher to join the school in providing good quality teaching which will start after Easter until the end of the academic year. Your new role As a Reception Teacher you will be required to undertake full teacher responsibilities of planning, marking and assessing and attending staff briefings/training and parents evening. You will also be required to prepare the children for the next steps in their  journey by ensuring their spiritual, moral, social and cultural development is excellent. What you'll need to succeed To be considered for this long-term opportunity as a Reception Teacher it is essential you have QTS and recent experience within a classroom setting, it is desirable that this experience is within EYFS or KS1. In addition, to aid your ongoing success within  the position of EYFS Teacher it is important that you have a caring nature, the ability to work flexibly and adapt and a passion for teaching. What you'll get in return In return you will have the opportunity to work for a school which has outstandingly effective leaders and managers and have thus created a wonderful ethos. You will be paid to scale, dependent on your experience and you will receive the benefit of having your  own personal Primary Teaching Recruitment Consultant who has specialised knowledge on North Somerset and the surrounding area. What you need to do now If you're interested in this role, click 'apply now' to forward an up-to-date copy of your CV, or call us now. If this job isn't quite right for you but you are looking for a new position, please contact us for a confidential discussion on your career.   Hays Specialist Recruitment Limited acts as an employment agency for permanent recruitment and employment business for the supply of temporary workers. By applying for this job you accept the T&C's, Privacy Policy and Disclaimers which can be found at hays.co.uk\",\n",
       "  'location': 'somerset',\n",
       "  'salary': '£100.00 - £150.00 per day',\n",
       "  'title': 'reception teacher',\n",
       "  'lat': 51.509865,\n",
       "  'long': None},\n",
       " {'company': 'servoca education resourcing',\n",
       "  'date_listed': '13-03-2019',\n",
       "  'description': \"Apply now                                                                                  Year 1 Teacher - Paddington, Westminster - September 2019 start   2 form entry 'Good' School   Are you looking for a supportive, forward-thinking Primary school for September?   A brand new, exciting opportunity at a 'Good' Primary School based in Paddington in Westminster has arisen. This position will begin in September 2019 and is a permanent opportunity. This is a high-achieving yet warm and welcoming Primary school. They are  searching for a Year 1 teacher on a full-time basis to teach a small class of 24 children. This opportunity is suitable for Newly Qualified Teachers (NQT's) and those with more experience (QTS). Ideally, the Year 1 teacher will be familiar with and have previous  experience working with the UK curriculum.   The Primary school instils their pupil's with an uncompromising set of values with empathy being a key element. The children are encouraged to take calculated risks. There are ample opportunities at this school for TLR and further responsibilities. The Year  1 Teacher will be appointed on a permanent contract and will be offered plentiful CPD opportunities.     Year 1 Teacher NQT or Experienced September 2019 Permanent Two form entry, 'Good' school Paddington, Westminster MPS/UPS inner London   This Primary school have been commended by OFSTED for their established senior leadership team and excellent behaviour within the school. This is a two-form entry school so the teacher appointed will be working alongside the other Year 1 teacher. Planning  for lessons will be shared between the Reception teachers to combine ideas and reduce work-load.   The Head Teacher allows all teachers to have creative freedom with their lessons. The Year 1 teacher appointed will be expected to offer engaging and forward-thinking lessons with the help of their teaching assistant in class.   The Year 1 Teacher will be carefully selected and should hold specialist subject interests, intellect and ambition to develop as a teacher. The Primary school in Westminster promises to offer exceptional professional development opportunities, providing  access to a wide variety of training courses to ensure a continuing advancement in teacher's capability. The Year 1 teacher will become a part of a warm, welcoming environment, with an enthusiastic, motivated and knowledgeable team.   If you would like to apply for this position please submit your updated CV.   Alternatively please send your updated CV to Abi Ralph on    Year 1 Teacher - Paddington, Westminster - September 2019\",\n",
       "  'location': 'london',\n",
       "  'salary': '£29.664 - £48.244 per annum',\n",
       "  'title': 'year teacher',\n",
       "  'lat': 51.509865,\n",
       "  'long': -0.118092},\n",
       " {'company': 'nhs greater glasgow clyde',\n",
       "  'date_listed': '13-03-2019',\n",
       "  'description': \"Apply on employer's website                                                                                TO APPLY PLEASE ENSURE YOU ONLY DOWNLOAD, COMPLETE AND SUBMIT THE JOB PACK AVAILABLE FROM CLINICAL FELLOW APPOINTMENT (TWO POSTS - UNBANDED) FROM 7th AUGUST 2019 FOR A PERIOD OF 6 MONTHS INITIALLY WITH AN OPTION TO EXTEND TO 1 YEAR The Medicine for the Elderly Department in Glasgow Royal Infirmary is seeking two Clinical Fellows to support the work of this dynamic and rapidly growing service. The posts will be based in GRI and will focus on providing inpatient care to patients in Acute  Geriatric Assessment beds, although there may be a requirement to provide cover within either of our geriatric rehabilitation units at Lightburn Hospital and Stobhill ACH. The successful applicants will be attached to an acute assessment ward on a rotational  basis and will support the consultant, registrar and other junior doctor teams in providing high quality acute care and Comprehensive Geriatric Assessment for our patients. The hours of work will be 9am - 5pm, Mon- Fri but it is anticipated that there will  be opportunities for out of hours work should the successful candidates wish to undertake this. A range of educational opportunities will be available and the post holders will be allocated appropriate Educational Supervision for the duration of the post,  however these are Directorate posts and do not carry recognition from the Postgraduate Deanery for training purposes. The posts will be open to doctors who have completed foundation training and hold full GMC registration. For further information call Dr Kirsty  Colquhoun onor Dr Kate McArthur on. CLOSING DATE 5TH APRIL 2019\",\n",
       "  'location': 'lanarkshire',\n",
       "  'salary': '£32.157 - £42.544 per annum',\n",
       "  'title': 'clinical fellow in medicine for the elderly',\n",
       "  'lat': 51.509865,\n",
       "  'long': None},\n",
       " {'company': 'nhs greater glasgow clyde',\n",
       "  'date_listed': '13-03-2019',\n",
       "  'description': \"Apply on employer's website                                                                                TO APPLY PLEASE ENSURE YOU ONLY DOWNLOAD, COMPLETE AND SUBMIT THE JOB PACK AVAILABLE FROM This Clinical Fellow post is available from as soon as possible until 6th August 2019. The successful candidate will work with the existing team in South Glasgow  providing in patient, out patient and day case clinical care for a wide range of haematological conditions. In addition there will be responsibility for provision of clinical advice to hospital clinicians and general practitioners. There is a wide spectrum  of clinical specialities in South Glasgow including tertiary referral centres for neurology, neurosurgery and maxillo-facial surgery and a large maternity service including foetal medicine. Training will be provided. Previous experience in haematology is desirable  but not essential. Completion of a foundation program is essential. To practice medicine in the UK you need to hold both GMC registration and a licence to practice. This post does not have Educational approval and will not be recognised for training. For an  informal discussion about the post contact Dr Susan Rhodes or Dr Ian Macdonald, on/9074 or Dr Alistair Hart, Dr Alison McCaig or Dr Gail Loudon on. CLOSING DATE 5TH APRIL 2019\",\n",
       "  'location': 'lanarkshire',\n",
       "  'salary': '£32.157 - £42.544 per annum',\n",
       "  'title': 'clinical fellow haematology',\n",
       "  'lat': 51.509865,\n",
       "  'long': None},\n",
       " {'company': 'jobwise ltd',\n",
       "  'date_listed': '13-03-2019',\n",
       "  'description': \"Apply now                                                                                  A well respected and successful local company is looking for a new member of its sales administration team. If you have excellent admin skills and communication skills we'd like to hear from you. There's a salary of £17,000 and superb prospects.  About The Company: This long established, stable and successful local company operates on a global basis and have continued to demonstrate why they are leaders in their field. This division has grown consistently and they are looking to add to their current team. They offer excellent  working conditions along with free parking onsite and excellent links to transport networks. About The Role: You will be working in a busy sales office assisting the sales team. The role will include:     Processing orders that have been passed buy the sale team Inputting and liaising with internal contacts Liaising with external suppliers Assisting with some incoming calls to help with customer queries   Essential Skills & Experience: The ideal candidate will have previous experience in an order processing, sales administration or another similar admin support role. You will be comfortable using Word, Excel and email. You will be accurate with a good eye for detail and be comfortable working  in a busy, fast paced environment The benefits:     A salary of £17,000 21 days holiday, plus bank holidays, rising to 25 days over time Free parking Pension scheme Childcare vouchers   To Apply: If this sounds like a sales support role you will LOVE, please send your CV today We aim to respond to all successful applications within 2 days. If you haven't been contacted within 2 days your application has been unsuccessful and your details will not be held. Please check our website and apply directly for any other suitable positions  you see. We apologise that we are unable to contact everyone in person and thank you for your interest. Are you on Facebook? Consider following our Facebook page as this is the first place where we post the most up to date vacancies, along with CV tips, interview techniques and so much more. Check us out on Facebook\",\n",
       "  'location': 'lancashire',\n",
       "  'salary': '£17.000 per annum',\n",
       "  'title': 'sales order processor',\n",
       "  'lat': 53.765762,\n",
       "  'long': -2.692337}]"
      ]
     },
     "execution_count": 12,
     "metadata": {},
     "output_type": "execute_result"
    }
   ],
   "source": [
    "technojobs_dict[:10]"
   ]
  },
  {
   "cell_type": "code",
   "execution_count": 6,
   "metadata": {},
   "outputs": [],
   "source": [
    "def searchFunction(feature, search):\n",
    "    res = es.search(index=\"job\", doc_type=\"job\", body={\"query\": {\"match\": {feature: search}}})\n",
    "    print(\"%d documents found\" % res['hits']['total'])\n",
    "    for doc in res['hits']['hits']:\n",
    "        print(\"%s) %s\" % (doc['_id'], doc['_source'][feature]))\n",
    "        \n",
    "def searchFunctionAllFeatures(search):\n",
    "    res = es.search(index=\"job\", doc_type=\"job\", body={\"query\": {\"multi_match\" : {\n",
    "            \"query\" : search,\n",
    "            \"fields\": [\"title^3\", \"description\",\"location\",\"URL\"]#makes the title three times more important\n",
    "        }}})\n",
    "    print(\"%d documents found\" % res['hits']['total'])\n",
    "    for doc in res['hits']['hits']:\n",
    "        print(\"%s) %s\" % (doc['_id'], doc['_source']))"
   ]
  },
  {
   "cell_type": "code",
   "execution_count": 7,
   "metadata": {},
   "outputs": [
    {
     "name": "stdout",
     "output_type": "stream",
     "text": [
      "774 documents found\n",
      "tcA0fWkBX9rBgXuLKY0b) \n",
      "            Data Scientist        \n",
      "IcA0fWkBX9rBgXuLEIeR) \n",
      "            Data Scientist         \n",
      "ZcA0fWkBX9rBgXuLOpJj) \n",
      "            Data Scientist         \n",
      "x8A0fWkBX9rBgXuLWZqq) \n",
      "            Data Scientist        \n",
      "xcA0fWkBX9rBgXuLc6G_) \n",
      "            Data Scientist        \n",
      "5ApZmmkBO93G78ZJoCQU) data scientist\n",
      "kMA0fWkBX9rBgXuLJYwH) \n",
      "            Data Scientist        \n",
      "o8A0fWkBX9rBgXuLA4Ow) \n",
      "            Data Scientist        \n",
      "YMA0fWkBX9rBgXuLap-5) \n",
      "            Data Scientist         \n",
      "-QpZmmkBO93G78ZJkB8L) data scientist\n"
     ]
    }
   ],
   "source": [
    "searchFunction(\"title\",\"data scientist\")"
   ]
  },
  {
   "cell_type": "code",
   "execution_count": 13,
   "metadata": {},
   "outputs": [
    {
     "name": "stdout",
     "output_type": "stream",
     "text": [
      "113 documents found\n",
      "w2aSkGkB484-OV2z91VE) {'title': '\\n            Hadoop Developer        ', 'company': '\\n                        Computer Futures                    ', 'description': ['\\n            Start: latest 1st of May 2019', '\\r\\n', '\\r\\nEnd: 31st of March 2020 (extension possible)', '\\r\\n', '\\r\\nLocation: Stockholm', '\\r\\n', '\\r\\nWorkload: 100%', '\\r\\n', '\\r\\n ', '\\r\\n', '\\r\\nYour tasks mean that you primarily work with the Hadoop platform and SQL server both strategically and operationally to provide the business with data for report tools and reports. Your role includes proposing technical solutions and proactively improving the platform, but also acting as a sounding board for various stakeholders in the business.', '\\r\\n', '\\r\\nYour background', '\\r\\n', '\\r\\nWe see that you have a solid IT background with an academic degree or equivalent experience acquired in another way. You have at least 3 years of experience with BI solutions. Merit is the experience of Hadoop and the experience of agile working methods.', '\\r\\n', '\\r\\n ', '\\r\\n', '\\r\\nRequirements', '\\r\\n', '\\r\\n * -Academic degree', '\\r\\n * -Most three years of experience with BI solutions', '\\r\\n * -Experience of Hadoop', '\\r\\n * Java, Python, R, SQL, Scala', '\\r\\n * HDFS, YARN, Hive, Spark, Nifi or Kafka', '\\r\\n * Building and optimizing large data flows including the integration', '\\r\\n * working with unstructured data sets, manipulating, processing and extracting value from large amounts of data', '\\r\\n', '\\r\\n ', '\\r\\n', '\\r\\nPlease send your CV and hourly rate or give me a call.', '\\r\\n', '\\r\\nLooking forward to have a further discussion.', '\\r\\n', '\\r\\nRegards,', '\\r\\n', '\\r\\nJana                    '], 'location': '\\n                        Stockholm                    ', 'salary': '\\n                        Negotiable                    ', 'date_listed': '\\n                        22nd February                    '}\n",
      "22aSkGkB484-OV2z91Xh) {'title': '\\n            Hadoop Data Engineer        ', 'company': '\\n                        Computer Futures                    ', 'description': ['\\n            Who They Are:', '\\r\\n', '\\r\\nYou will working for a market leading Data consultancy that helps customers manage multiple data types from countless varied sources. You will be helping with solutions for Data Lake, Machine Learning & Cyber Security.', '\\r\\n', '\\r\\n ', '\\r\\n', '\\r\\nWhat you will be doing:', '\\r\\n', \"\\r\\nYou will have to work closely with Data Scientists to help design methods for collecting and integrating a variety of Data which will then be used in predictive analytics or in other data science uses. You will have to apply big data technologies such as Hadoop, Spark or Streams and also have NoSQL data management experience with large, multi-structured Data sets. You will work closely with customer's businesses\", '\\r\\n', '\\r\\nWhat you need:', '\\r\\n', \"\\r\\n * Master's degree or equivalent in Computer science, computer engineering, computer applications or any related field\", '\\r\\n * Have 2 years of experience in: Linux, Hadoop, Oracle, Informatica and Teradata', '\\r\\n * Used other tools & technologies such as Kafka, Cassandra, Storm, Spark and streams with NoSQL', '\\r\\n', '\\r\\nIf you are looking for a new position and think that you have the above skills needed, please apply with your CV today.', '\\n', '\\nTo find out more about Computer Futures please visit www.computerfutures.com', '\\n', '\\n ', '\\n', '\\nComputer Futures, a trading division of SThree Partnership LLP is acting as an Employment Agency in relation to this vacancy | Registered office | 1st Floor, 75 King William Street, London, EC4N 7BE, United Kingdom | Partnership Number | OC387148 England and Wales                    '], 'location': '\\n                        London                    ', 'salary': '\\n                        £70,000 - £95,000                    ', 'date_listed': '\\n                        1st March                    '}\n",
      "U2aSkGkB484-OV2zKjtT) {'title': '\\n            Full Stack Developer / Python / Spark / Hadoop         ', 'company': '\\n                        Spring Group Plc                    ', 'description': ['\\n            ', '\\r\\nMy client is currently recruiting for a Full Stack Software Developer with experience in Python, Spark and Hadoop for a 6 - 12 month contract based in the city of London.', '\\r\\n', '\\r\\nResponsibilities:', '\\r\\n*Requirement is for a Python spark developer who will help with data on boarding using python and spark. ', '\\r\\n*The ideal candidate is adept at using large data sets and transform and enrich the same.', '\\r\\n', '\\r\\nEssential Skills:', '\\r\\n*Hands on experience with Python and Spark', '\\r\\n*Hands on experience with Hadoop using spark', '\\r\\n*Ability to perform end to end application development, testing and deployment', '\\r\\n*Experience in developing RESTful web services', '\\r\\n*Oracle database working experience with good RDBMS concepts and query tuning exposure', '\\r\\n*Ability to work with global team and mentor junior developers as needed Functional', '\\r\\n*Experience in trade Surveillance domain and trade model development is a plus.', '\\r\\n', '\\r\\nLocation : London,  United Kingdom', '\\r\\n', '\\r\\nIf this role is of interest please can you submit a copy of your latest cv ', '\\n', '\\nSpring acts as an employment agency for permanent recruitment and an employment business for the supply of temporary workers. The Spring Group UK is an Equal Opportunities Employer.', '\\r\\n', '\\r\\nBy applying for this role your details will be submitted to Spring. Our Candidate Privacy Information Statement explains how we will use your information - please copy and paste the following link in to your browser: www.spring.com/candidate-privacy-information-statement                    '], 'location': '\\n                        City of London                    ', 'salary': '\\n                        Negotiable                    ', 'date_listed': '\\n                        26th February                    '}\n",
      "XWaSkGkB484-OV2zYEGs) {'title': '\\n            Big Data Developer (Hadoop) - Java - SQL - Agile/Scrum - Security Cleared        ', 'company': '\\n                        SQCP                    ', 'description': ['\\n            ', 'Big Data Developer (Hadoop) required for a leading global security company with offices in London. Mu client has an immediate opportunity for an experienced big data engineer/ developer in building data pipelines and processing high volumes of data. Successful candidates will work within exciting and prominent programmes and be asked to support the team in Scrum/Agile development. Engineers will perform design of mission critical products, whilst supporting the pursuit of new business.', '\\r\\n', '\\xa0', '\\r\\n', 'You will hold the following key responsibilities:', '\\r\\n', '** Will design, develop, test and integrate quality software', '\\r\\n', '** Has experience of building Hadoop data pipelines in production environments', '\\r\\n', '** Has a strong understanding of data structures and algorithms relevant to processing high volumes of data', '\\r\\n', '** Has an understanding of data governance, security and audit requirements', '\\r\\n', '\\xa0', '\\r\\n', 'Key Criteria Required:', '\\r\\n', 'Experience in software development using:', '\\r\\n', '** Java and use of object oriented design', '\\r\\n', '** Spark (Batch & Streaming)', '\\r\\n', '** SQL', '\\r\\n', '** HDFS', '\\r\\n', '** Soir', '\\r\\n', '** Scala', '\\r\\n', '** Experience or knowledge of Agile / Scrum methodologies', '\\r\\n', '** Applicants must be able to hold and maintain UK Government clearances', '\\r\\n', '\\xa0', '\\r\\n', 'We would also love it if you have:', '\\r\\n', '** Knowledge or experience various open source products, for example: Apache Foundation products', '\\r\\n', '\\xa0', '\\r\\n', 'Experience with:', '\\r\\n', '** NiFi', '\\r\\n', '** Python', '\\r\\n', '** Lucene index/ query strategies', '\\r\\n', '\\xa0', '\\r\\n', 'Production experience of:', '\\r\\n', '** NLP/ Image processing', '\\r\\n', '** Hbase', '\\r\\n', '** Kafka', '\\r\\n', '** Experience of using Atlassian Jira/ IBM RTC suite, or similar product lifecycle software packages', '\\r\\n', '**Experience of UK Government working practices', '\\r\\n', '\\xa0', '\\r\\n', 'Candidates must hold an active DV security clearance/', '\\r\\n', '\\xa0', '\\r\\n', 'Please note your CV will not be submitted for this or any other role without your prior approval.\\xa0', '\\r\\n', 'SQ Computer Personnel Limited acts as both an Employment Agency and Employment Business.', '                    '], 'location': '\\n                        LONDON                    ', 'salary': '\\n                        Neg                    ', 'date_listed': '\\n                        26th February                    '}\n",
      "xWaSkGkB484-OV2z1FB0) {'title': '\\n            Informatica BDM Consultant         ', 'company': '\\n                        Progressive                    ', 'description': ['\\n            Informatica BDM Consultant- Financial Services- Melbourne CBD', '\\r\\n', '\\r\\nWe are seeking a Informatica BDM Consultant to join a fast growing Financial services firm based in the heart of the city.', '\\r\\n', '\\r\\n Description ', '\\r\\n', '\\r\\n * Project experience with ETL tools such as Informatica on BIGdata ecosystem.', '\\r\\n * Good working knowledge of ecosystem works in BIG data. Ability to develop custom components in Informatica Big Data Edition.', '\\r\\n * Involve in gathering business requirements for the data warehouse as well as business intelligence reports to be used by management.', '\\r\\n * Implement Informatica implement mappings for extracting data from DWH to Data Lake.', '\\r\\n * Design & development of BDM mappings in Hive mode for large volume of INSERT/UPDATE.', '\\r\\n * Work on pushing existing ETL Logic to Hadoop cluster using Informatica BDM Tool.', '\\r\\n * Create BDM parameter sets, and parameter files for daily & delta loads.', '\\r\\n * Leveraged Informatica to load data from oracles to HDFS & vice versa.', '\\r\\n * Proven understanding with Hadoop, Hive, Pig & Hbase.', '\\r\\n', '\\r\\nThe requirements of the Informatica BDM Consultant', '\\r\\n', '\\r\\n * Experience developing Informatica mappings on AWS.', '\\r\\n * Informatica Blaze engine and benchmark against SPark or other big data processing frameworks.', '\\r\\n * Experience using Informatica command-line tools such as PMCMD.', '\\r\\n * Experience with Hadoop ecosystem technologies such as HIve, Hbase, etc.', '\\r\\n * Experience working with RDBMS. ', '\\r\\n * Research based mindset', '\\r\\n * The ideal Data Engineer will have a clear route of progression from the start and will be a key decision maker for the company.', '\\r\\n', '\\r\\nPlease contact Paulina for any further feedback.', '\\n', '\\nTo find out more about Progressive Recruitment please visit our website. ', '\\n', '\\n ', '\\n', '\\nAward Winner for:', '\\n', '\\nBest Medium Recruitment Company of the Year by Recruitment International 2018', '\\n', '\\nTraining & Development Initiative of the Year by Recruitment International 2018                    '], 'location': '\\n                        Melbourne                    ', 'salary': '\\n                        £384 - £414                    ', 'date_listed': '\\n                        7th March                    '}\n",
      "L2aRkGkB484-OV2zqC10) {'title': '\\n            Java Developer - Big Data, Help Predict the Future        ', 'company': '\\n                        Understanding Recruitment                    ', 'description': ['\\n            Java Developer - Big Data, Help Predict the Future', '\\r\\n', \"\\r\\nWe are looking for an outstanding Java Developer to develop/design software projects that impact millions of people on a daily basis. As the Java Developer you'll be joining our tech hub in Central Nottingham, engineering a world-class product using a selection of big data technology. \", '\\r\\n ', '\\r\\n We are looking for a Java Developer with the following: ', '\\r\\n ', '\\r\\n * Strong Java development background ', '\\r\\n * Desire to learn and work with Big Data Tech - Hadoop, Spark, HBase, Hive, Impala,', '\\r\\n * Outstanding communication skills ', '\\r\\n', '\\r\\n ', '\\r\\n', '\\r\\nA fantastic opportunity for the Java Developer to join the market leader in their industry, work with some very intelligent Developers using a range of the bleeding-edge tech. You will help us to create a platform that will predict future global events with technology such as Hadoop, Spark, Hive, Impala, HBase, & Scala. ', '\\r\\n', \"\\r\\nWe are looking for passionate technologists who know which technology excites them and why. There's the opportunity to work in an environment that allows you as the Java Developer to demonstrate your full potential. We encourage bright ideas and give our employees the autonomy to do so. Fantastic opportunities for career progression are available once established both nationally & internationally. \", '\\r\\n ', '\\r\\n Our Tech Includes: Java, Hadoop, Spark, Hive, Impala, HBase, Scala, MapReduce, Java Developer, Agile + many more ', '\\r\\n', '\\r\\n ', '\\r\\n', '\\r\\nApply now for immediate consideration!', '\\r\\n', '\\r\\nUnderstanding Recruitment is acting as an employment agency for this vacancy                    '], 'location': '\\n                        Nottingham                    ', 'salary': '\\n                        £50,000 - £55,000                    ', 'date_listed': '\\n                        10th February                    '}\n",
      "imaSkGkB484-OV2zETjo) {'title': '\\n            Java Developer - Predictive Analytics        ', 'company': '\\n                        Understanding Recruitment                    ', 'description': ['\\n            Java Developer - Predictive Analytics', '\\r\\n', \"\\r\\nWe are looking for an outstanding Java Developer to develop/design software projects that impact millions of people on a daily basis. As the Java Developer you'll be joining our tech hub in Central Nottingham, engineering a world-class product using a selection of big data technology. \", '\\r\\n ', '\\r\\n We are looking for a Java Developer with the following: ', '\\r\\n ', '\\r\\n * Strong Java development background ', '\\r\\n * Desire to learn and work with Big Data Tech - Hadoop, Spark, HBase, Hive, Impala,', '\\r\\n * Outstanding communication skills ', '\\r\\n', '\\r\\n ', '\\r\\n', '\\r\\nA fantastic opportunity for the Java Developer to join the market leader in their industry, work with some very intelligent Developers using a range of the bleeding-edge tech. You will help us to create a platform that will predict future global events with technology such as Hadoop, Spark, Hive, Impala, HBase, & Scala. ', '\\r\\n', \"\\r\\nWe are looking for passionate technologists who know which technology excites them and why. There's the opportunity to work in an environment that allows you as the Java Developer to demonstrate your full potential. We encourage bright ideas and give our employees the autonomy to do so. Fantastic opportunities for career progression are available once established both nationally & internationally. \", '\\r\\n ', '\\r\\n Our Tech Includes: Java, Hadoop, Spark, Hive, Impala, HBase, Scala, MapReduce, Java Developer, Agile + many more ', '\\r\\n', '\\r\\n ', '\\r\\n', '\\r\\nApply now for immediate consideration!', '\\r\\n', '\\r\\nUnderstanding Recruitment is acting as an employment agency for this vacancy                    '], 'location': '\\n                        Nottingham                    ', 'salary': '\\n                        £45,000 - £55,000                    ', 'date_listed': '\\n                        24th February                    '}\n",
      "UmaRkGkB484-OV2z9TV4) {'title': '\\n            Senior Software Engineer Java Big Data         ', 'company': '\\n                        Client Server                    ', 'description': [\"\\n            Senior Software Engineer / Java Developer (data privacy data sql hadoop). Help solve one of society's most urgent issues around personal data privacy and protection, working alongside extremely talented Java software and Data Science professionals. \", '\\r\\n', \"\\r\\nJoining a collaborative Agile team, as a Senior Software Engineer you'll combine state of the art technologies with leading-edge algorithms to understand and effectively tackle hard data security and data anonymisation problems. You'll be joining a team of first class software engineers that care deeply about the quality and maintainability of code, working on complex and interesting problems in an environment that encourages knowledge sharing and continual improvement. You'll be encouraged to innovate and keep up to date with emerging technologies; utilising Big Data technologies such as Spark, Hadoop and GraphLab.\", '\\r\\n', \"\\r\\nYou'll be based in cool, start-up offices with a modern and spacious environment and a friendly team atmosphere. \", '\\r\\n', '\\r\\nRequirements:', '\\r\\n*Strong Java development experience including multi-threading and concurrent programming', '\\r\\n*Full lifecycle development experience of a software product', '\\r\\n*Good knowledge of test automation ', '\\r\\n*Familiar with SQL and RDBMS technology ', '\\r\\n*Enjoy statistics and maths, intrigued by topics such as privacy-preserving data mining, differential privacy and homomorphic encryption', '\\r\\n*Collaborative team player who enjoys mentoring as well as learning', '\\r\\n*Degree educated, Computer Science preferred', '\\r\\n*Highly desirable: Spark, Hadoop, GraphLab, AWS or other cloud platform, Python, distributed algorithm design', '\\r\\n', '\\r\\nAs a Senior Software Engineer / Java Developer you will earn a highly competitive salary (to £100k) plus benefits.', '\\r\\n', '\\r\\nApply now or call for a confidential discussion about this Senior Software Engineer / Java Developer opportunity.', '\\r\\n                    '], 'location': '\\n                        London                    ', 'salary': '\\n                        £85,000 - £100,000                    ', 'date_listed': '\\n                        15th February                    '}\n",
      "8GaSkGkB484-OV2zgkW2) {'title': '\\n            DevOps Engineer        ', 'company': '\\n                        Real Staffing                    ', 'description': ['\\n            DevOps Engineer', '\\r\\n', '\\r\\nA leading utility client are looking for multiple DevOps engineer (s) to work in a growing team to support the innovative projects across the business.', '\\r\\n', '\\r\\nYou will have extensive DevOps experience on AWS. They are looking to build a new AWS infrastructure, automate their workflow and data processes.', '\\r\\n', '\\r\\nHaving previous experience working across AWS, architecture, security and big data platforms such as Hadoop will be a distinct advantage.', '\\r\\n', '\\r\\nExperience building and developing tools, TDD, BDD and continuous integration is also a benefit.', '\\r\\n', '\\r\\nThe role is looking to automate the development, testing and deployment process to ensure the AWS platform is fit for purpose.', '\\r\\n', '\\r\\nKnowledge Require-', '\\r\\n', '\\r\\n * AWS', '\\r\\n * Jenkins, Ansible, Play Docker.', '\\r\\n * Automation experience.', '\\r\\n * Hadoop, Spark, EMR', '\\r\\n * Python', '\\r\\n', '\\r\\nPlease apply with an updated CV and successful candidates will be contacted direct.', '\\n', '\\nTo find out more about Real please visit www.realstaffing.com', '\\n', '\\nReal Staffing, a trading division of SThree Partnership LLP is acting as an Employment Business in relation to this vacancy| Registered office | 1st Floor, 75 King William Street, London, EC4N 7BE, United Kingdom | Partnership Number | OC387148 England and Wales                    '], 'location': '\\n                        South East England                    ', 'salary': '\\n                        Contract                    ', 'date_listed': '\\n                        19th February                    '}\n",
      "z2aSkGkB484-OV2z91WQ) {'title': '\\n            Lead Data Engineer         ', 'company': '\\n                        Client Server                    ', 'description': ['\\n            Lead Data Engineer / Data Scientist (Spark Hadoop R SAS SQL Scala Python). FinTech start-up that works with high profile financial services and government organisations to provide data science services and complex software solutions to combat financial fraud is seeking a Senior Data Engineer to lead a small but growing team. ', '\\r\\n', '\\r\\nAs a Lead Data Engineer you will work with clients to solve business problems in the area of fraud, compliance and financial crime. Responsibilities will include eliciting and documenting solutions requirements; understanding patterns of criminal behaviour and designing systems to detect and investigate them. ', \"\\r\\nYou'll manage, transform and cleanse high volume data, performing advanced analytics to identify trends and automate analysis to proactively alert on high risk activity on an ongoing basis. Working closely with the development team you will be using leading open source data science tools such as Spark, Hadoop, and Lucence and will also gain exposure to Python and Scala to collaborate on scalability issues involving massive amounts of data and produce components for advanced analytics, matching, search and visualisation on big data. \", '\\r\\n', \"\\r\\nYou'll be based in London close to a mainline station near the City; you'll be working with a small, motivated, collaborative team of software, data and finance experts.\", '\\r\\n', '\\r\\nRequirements:', '\\r\\n*Excellent technical skills including expert knowledge of at least one analytical or big data package such as Spark, Hadoop, R, SAS, SQL', '\\r\\n*Good coding skills with Scala, Java and / or Python ', '\\r\\n*Some team leadership experience ', '\\r\\n*Excellent communication skills, client facing and presentation skills', '\\r\\n*Passion and enthusiasm for learning new technologies and techniques ', '\\r\\n*Degree educated, 2.1 or above', '\\r\\n*Ideally you will have a background in AML, KYC, screening, regulatory compliance or fraud', '\\r\\n', '\\r\\nAs a Lead Data Engineer / Data Scientist you will earn a competitive salary (to £100k) plus benefits.', '\\r\\n', '\\r\\nApply now or call for a confidential discussion about this Lead Data Engineer / Data Scientist opportunity.                    '], 'location': '\\n                        London                    ', 'salary': '\\n                        £85,000 - £100,000                    ', 'date_listed': '\\n                        15th February                    '}\n"
     ]
    }
   ],
   "source": [
    "searchFunctionAllFeatures(\"hadoop\")"
   ]
  },
  {
   "cell_type": "code",
   "execution_count": null,
   "metadata": {},
   "outputs": [],
   "source": []
  }
 ],
 "metadata": {
  "kernelspec": {
   "display_name": "Python 3",
   "language": "python",
   "name": "python3"
  },
  "language_info": {
   "codemirror_mode": {
    "name": "ipython",
    "version": 3
   },
   "file_extension": ".py",
   "mimetype": "text/x-python",
   "name": "python",
   "nbconvert_exporter": "python",
   "pygments_lexer": "ipython3",
   "version": "3.6.5"
  }
 },
 "nbformat": 4,
 "nbformat_minor": 2
}
